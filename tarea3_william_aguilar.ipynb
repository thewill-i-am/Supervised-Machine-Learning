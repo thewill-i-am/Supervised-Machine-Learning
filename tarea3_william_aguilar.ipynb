{
 "cells": [
  {
   "cell_type": "code",
   "execution_count": 62,
   "outputs": [],
   "source": [
    "import pandas as pd\n",
    "import numpy as np\n",
    "import os\n",
    "from sklearn.ensemble import AdaBoostClassifier, RandomForestClassifier\n",
    "from sklearn.metrics import confusion_matrix\n",
    "from sklearn.model_selection import train_test_split\n",
    "from sklearn.tree import DecisionTreeClassifier\n",
    "import matplotlib.pyplot as plt\n",
    "from sklearn.ensemble import GradientBoostingClassifier\n",
    "\n",
    "os.chdir(\"/home/william/Desktop\")"
   ],
   "metadata": {
    "collapsed": false,
    "pycharm": {
     "name": "#%%\n"
    }
   }
  },
  {
   "cell_type": "code",
   "execution_count": 63,
   "outputs": [],
   "source": [
    "datosTicTacToe = pd.read_csv(\"tic-tac-toe.csv\")"
   ],
   "metadata": {
    "collapsed": false,
    "pycharm": {
     "name": "#%%\n"
    }
   }
  },
  {
   "cell_type": "code",
   "execution_count": 64,
   "outputs": [
    {
     "data": {
      "text/plain": "cuadro-superior-izquierdo     category\n cuadro-superior-medio        category\n cuadro-superior-derecho      category\n cuadro-medio-izquierdo       category\n cuadro-medio-medio           category\n  cuadro-medio-derecho        category\n cuadro-inferior-izquierdo    category\n cuadro-inferior-medio        category\n cuadro-inferior-derecho      category\n Gana-x                         object\ndtype: object"
     },
     "execution_count": 64,
     "metadata": {},
     "output_type": "execute_result"
    }
   ],
   "source": [
    "for x in datosTicTacToe:\n",
    "    if x != \" Gana-x\":\n",
    "        datosTicTacToe[x] = datosTicTacToe[x].astype('category')\n",
    "datosTicTacToe.dtypes"
   ],
   "metadata": {
    "collapsed": false,
    "pycharm": {
     "name": "#%%\n"
    }
   }
  },
  {
   "cell_type": "code",
   "execution_count": 65,
   "outputs": [],
   "source": [
    "datosTicTacToePosiblesResultados = list(set(datosTicTacToe.iloc[:, -1]))"
   ],
   "metadata": {
    "collapsed": false,
    "pycharm": {
     "name": "#%%\n"
    }
   }
  },
  {
   "cell_type": "code",
   "execution_count": 66,
   "outputs": [],
   "source": [
    "class PrediccionBase:\n",
    "    def __init__(self, datos):\n",
    "        self.__datos = self.cleaning(datos)\n",
    "        self.__precisionGlobal = 0\n",
    "        self.__error_global = 0\n",
    "        self.__verdaderosNegativos = 0\n",
    "        self.__falsosPositivos = 0\n",
    "        self.__falsosNegativos = 0\n",
    "        self.__verdaderosPositivos = 0\n",
    "        self.__reporte = 0\n",
    "        self.__precision_category = 0\n",
    "\n",
    "    @property\n",
    "    def datos(self):\n",
    "        return self.__datos\n",
    "\n",
    "    @property\n",
    "    def reporte(self):\n",
    "        return self.__reporte\n",
    "\n",
    "    def cleaning(self, datos):\n",
    "        datos = datos.replace({'x': 0, 'o': 1, 'b': 2})\n",
    "        return datos\n",
    "\n",
    "    def entrenamiento(self):\n",
    "        pass\n",
    "\n",
    "    def generacionReporte(self, nombreDelModelo):\n",
    "        dict = {\n",
    "            \"Modelo\": [nombreDelModelo],\n",
    "            \"Precision Global\": [self.__precisionGlobal],\n",
    "            \"Error Global\": [self.__error_global],\n",
    "            \"Verdaderos Positivos\": [self.__verdaderosPositivos],\n",
    "            \"Verdaderos Negativos\": [self.__verdaderosNegativos],\n",
    "            \"Falsos Negativos\": [self.__falsosNegativos],\n",
    "            \"Falsos Positivos\": [self.__falsosPositivos]}\n",
    "        self.__reporte = pd.DataFrame(dict).join(self.__precision_category)\n",
    "\n",
    "    def analsis(self, MC, modelo):\n",
    "        self.__verdaderosNegativos, self.__falsosPositivos, self.__falsosNegativos, self.__verdaderosPositivos = MC.ravel()\n",
    "        self.__precisionGlobal = np.sum(MC.diagonal()) / np.sum(MC)\n",
    "        self.__error_global = 1 - self.__precisionGlobal\n",
    "        self.__precision_category = pd.DataFrame(MC.diagonal() / np.sum(MC, axis=1)).T\n",
    "        self.__precision_category.columns = [\"Precision Positiva (PP)\", \"Precision Negativa (PN)\"]\n",
    "        self.generacionReporte(modelo)\n",
    "        return {\"Matriz de Confusión\": MC,\n",
    "                \"Precisión Global\": self.__precisionGlobal,\n",
    "                \"Error Global\": self.__error_global,\n",
    "                \"Precisión por categoría\": self.__precision_category}\n",
    "\n",
    "\n",
    "class PrediccionADABoosting(PrediccionBase):\n",
    "    def __init__(self, datos):\n",
    "        super().__init__(datos)\n",
    "        self.__instancia = None\n",
    "        self.__instancia_potenciacion = None\n",
    "        self.__x_train = []\n",
    "\n",
    "    def obtenerVariablesImportantes(self):\n",
    "        importancia = self.__instancia_potenciacion.feature_importances_\n",
    "        print(importancia)\n",
    "        etiquetas = self.__x_train.columns.values\n",
    "        y_pos = np.arange(len(etiquetas))\n",
    "        plt.figure(figsize=(10, 8))\n",
    "        plt.barh(y_pos, importancia, align='center', alpha=0.5)\n",
    "        plt.yticks(y_pos, etiquetas)\n",
    "\n",
    "    def entrenamiento(self, train_size=0.75, criterion=\"gini\", splitter=\"best\", min_samples_split=2):\n",
    "        x = self.datos.iloc[:, :-1]\n",
    "        y = self.datos.iloc[:, -1]\n",
    "        self.__instancia = DecisionTreeClassifier(min_samples_split=min_samples_split, max_depth=None,\n",
    "                                                  criterion=criterion, splitter=splitter)\n",
    "        self.__instancia_potenciacion = AdaBoostClassifier(base_estimator=self.__instancia,\n",
    "                                                           n_estimators=100, random_state=0)\n",
    "        self.__x_train, x_test, y_train, y_test = train_test_split(x, y, train_size=train_size, random_state=0)\n",
    "        self.__instancia_potenciacion.fit(self.__x_train, y_train)\n",
    "        prediccion = self.__instancia_potenciacion.predict(x_test)\n",
    "        MC = confusion_matrix(y_test, prediccion)\n",
    "        indices = self.analsis(MC, \"Bosques Aleatorios ADA Boosting\")\n",
    "        for k in indices:\n",
    "            print(\"\\n%s:\\n%s\" % (k, str(indices[k])))\n",
    "\n",
    "\n",
    "class PrediccionXGBoosting(PrediccionBase):\n",
    "    def __init__(self, datos):\n",
    "        super().__init__(datos)\n",
    "        self.__instancia = None\n",
    "        self.__instancia_potenciacion = None\n",
    "        self.__x_train = []\n",
    "\n",
    "    def obtenerVariablesImportantes(self):\n",
    "        importancia = self.__instancia_potenciacion.feature_importances_\n",
    "        print(importancia)\n",
    "        etiquetas = self.__x_train.columns.values\n",
    "        y_pos = np.arange(len(etiquetas))\n",
    "        plt.figure(figsize=(10, 8))\n",
    "        plt.barh(y_pos, importancia, align='center', alpha=0.5)\n",
    "        plt.yticks(y_pos, etiquetas)\n",
    "\n",
    "    def entrenamiento(self, train_size=0.75, n_estimators=10, random_state=0, min_samples_split=2):\n",
    "        x = self.datos.iloc[:, :-1]\n",
    "        y = self.datos.iloc[:, -1]\n",
    "\n",
    "        self.__instancia_potenciacion = GradientBoostingClassifier(n_estimators=n_estimators, random_state=n_estimators,\n",
    "                                                                   min_samples_split=min_samples_split, max_depth=None)\n",
    "\n",
    "        self.__x_train, x_test, y_train, y_test = train_test_split(x, y, train_size=train_size, random_state=0)\n",
    "        self.__instancia_potenciacion.fit(self.__x_train, y_train)\n",
    "        prediccion = self.__instancia_potenciacion.predict(x_test)\n",
    "        MC = confusion_matrix(y_test, prediccion)\n",
    "        indices = self.analsis(MC, \"Bosques Aleatorios XG Boosting\")\n",
    "        for k in indices:\n",
    "            print(\"\\n%s:\\n%s\" % (k, str(indices[k])))\n",
    "\n",
    "\n",
    "class PrediccionRandomForest(PrediccionBase):\n",
    "    def __init__(self, datos):\n",
    "        super().__init__(datos)\n",
    "        self.__instancia = None\n",
    "        self.__instancia_potenciacion = None\n",
    "        self.__x_train = []\n",
    "\n",
    "    def obtenerVariablesImportantes(self):\n",
    "        importancia = self.__instancia_potenciacion.feature_importances_\n",
    "        print(importancia)\n",
    "        etiquetas = self.__x_train.columns.values\n",
    "        y_pos = np.arange(len(etiquetas))\n",
    "        plt.figure(figsize=(10, 8))\n",
    "        plt.barh(y_pos, importancia, align='center', alpha=0.5)\n",
    "        plt.yticks(y_pos, etiquetas)\n",
    "\n",
    "    def entrenamiento(self, train_size=0.75, n_estimators=10):\n",
    "        x = self.datos.iloc[:, :-1]\n",
    "        y = self.datos.iloc[:, -1]\n",
    "\n",
    "        self.__instancia_potenciacion = RandomForestClassifier(n_estimators=n_estimators, random_state=0)\n",
    "\n",
    "        self.__x_train, x_test, y_train, y_test = train_test_split(x, y, train_size=train_size, random_state=0)\n",
    "        self.__instancia_potenciacion.fit(self.__x_train, y_train)\n",
    "        prediccion = self.__instancia_potenciacion.predict(x_test)\n",
    "        MC = confusion_matrix(y_test, prediccion)\n",
    "        indices = self.analsis(MC, \"Bosques Aleatorios\")\n",
    "        for k in indices:\n",
    "            print(\"\\n%s:\\n%s\" % (k, str(indices[k])))"
   ],
   "metadata": {
    "collapsed": false,
    "pycharm": {
     "name": "#%%\n"
    }
   }
  },
  {
   "cell_type": "code",
   "execution_count": 67,
   "outputs": [
    {
     "name": "stdout",
     "output_type": "stream",
     "text": [
      "\n",
      "Matriz de Confusión:\n",
      "[[ 56  18]\n",
      " [  3 115]]\n",
      "\n",
      "Precisión Global:\n",
      "0.890625\n",
      "\n",
      "Error Global:\n",
      "0.109375\n",
      "\n",
      "Precisión por categoría:\n",
      "   Precision Positiva (PP)  Precision Negativa (PN)\n",
      "0                 0.756757                 0.974576\n"
     ]
    }
   ],
   "source": [
    "prediccionADABosting = PrediccionADABoosting(datos=datosTicTacToe)\n",
    "prediccionADABosting.entrenamiento(train_size=0.80)"
   ],
   "metadata": {
    "collapsed": false,
    "pycharm": {
     "name": "#%%\n"
    }
   }
  },
  {
   "cell_type": "code",
   "execution_count": 68,
   "outputs": [
    {
     "name": "stdout",
     "output_type": "stream",
     "text": [
      "[0.11262988 0.07880623 0.08039373 0.10569753 0.14000401 0.11100015\n",
      " 0.15328041 0.09697945 0.12120859]\n"
     ]
    },
    {
     "data": {
      "text/plain": "<Figure size 720x576 with 1 Axes>",
      "image/png": "[encoded data removed]"
     },
     "metadata": {
      "needs_background": "light"
     },
     "output_type": "display_data"
    }
   ],
   "source": [
    "prediccionADABosting.obtenerVariablesImportantes()"
   ],
   "metadata": {
    "collapsed": false,
    "pycharm": {
     "name": "#%%\n"
    }
   }
  },
  {
   "cell_type": "markdown",
   "source": [
    "Para el algoritmo de potenciacion de ADA BOOSTING, podemos ver que la variable mas importante es el cuadro inferior izquierdo"
   ],
   "metadata": {
    "collapsed": false
   }
  },
  {
   "cell_type": "code",
   "execution_count": 69,
   "outputs": [
    {
     "name": "stdout",
     "output_type": "stream",
     "text": [
      "\n",
      "Matriz de Confusión:\n",
      "[[ 53  21]\n",
      " [  2 116]]\n",
      "\n",
      "Precisión Global:\n",
      "0.8802083333333334\n",
      "\n",
      "Error Global:\n",
      "0.11979166666666663\n",
      "\n",
      "Precisión por categoría:\n",
      "   Precision Positiva (PP)  Precision Negativa (PN)\n",
      "0                 0.716216                 0.983051\n"
     ]
    }
   ],
   "source": [
    "prediccionXGBoosting = PrediccionXGBoosting(datos=datosTicTacToe)\n",
    "prediccionXGBoosting.entrenamiento(train_size=0.80)"
   ],
   "metadata": {
    "collapsed": false,
    "pycharm": {
     "name": "#%%\n"
    }
   }
  },
  {
   "cell_type": "code",
   "execution_count": 70,
   "outputs": [
    {
     "name": "stdout",
     "output_type": "stream",
     "text": [
      "[0.11106831 0.08060148 0.08199095 0.09962354 0.14000401 0.10164083\n",
      " 0.15780867 0.11104057 0.11622163]\n"
     ]
    },
    {
     "data": {
      "text/plain": "<Figure size 720x576 with 1 Axes>",
      "image/png": "[encoded data removed]"
     },
     "metadata": {
      "needs_background": "light"
     },
     "output_type": "display_data"
    }
   ],
   "source": [
    "prediccionXGBoosting.obtenerVariablesImportantes()"
   ],
   "metadata": {
    "collapsed": false,
    "pycharm": {
     "name": "#%%\n"
    }
   }
  },
  {
   "cell_type": "markdown",
   "source": [
    "Para el algoritmo de potenciacion de XG BOOSTING, podemos ver que la variable mas importante es el cuadro inferior izquierdo"
   ],
   "metadata": {
    "collapsed": false
   }
  },
  {
   "cell_type": "code",
   "execution_count": 71,
   "outputs": [
    {
     "name": "stdout",
     "output_type": "stream",
     "text": [
      "\n",
      "Matriz de Confusión:\n",
      "[[ 61  13]\n",
      " [  6 112]]\n",
      "\n",
      "Precisión Global:\n",
      "0.9010416666666666\n",
      "\n",
      "Error Global:\n",
      "0.09895833333333337\n",
      "\n",
      "Precisión por categoría:\n",
      "   Precision Positiva (PP)  Precision Negativa (PN)\n",
      "0                 0.824324                 0.949153\n"
     ]
    }
   ],
   "source": [
    "prediccionRandomForest = PrediccionRandomForest(datos=datosTicTacToe)\n",
    "prediccionRandomForest.entrenamiento(train_size=0.80)"
   ],
   "metadata": {
    "collapsed": false,
    "pycharm": {
     "name": "#%%\n"
    }
   }
  },
  {
   "cell_type": "code",
   "execution_count": 72,
   "outputs": [
    {
     "name": "stdout",
     "output_type": "stream",
     "text": [
      "[0.1336949  0.08313247 0.13065682 0.07490372 0.1418822  0.10285765\n",
      " 0.10626768 0.11441025 0.1121943 ]\n"
     ]
    },
    {
     "data": {
      "text/plain": "<Figure size 720x576 with 1 Axes>",
      "image/png": "[encoded data removed]"
     },
     "metadata": {
      "needs_background": "light"
     },
     "output_type": "display_data"
    }
   ],
   "source": [
    "prediccionRandomForest.obtenerVariablesImportantes()"
   ],
   "metadata": {
    "collapsed": false,
    "pycharm": {
     "name": "#%%\n"
    }
   }
  },
  {
   "cell_type": "markdown",
   "source": [
    "Sin modificar ningun parametro podemos ver como el algorimo de bosques aleatorios por consenso, en este caso esta prediciendo mejor que los algoritmos por metodos de potenciación. Una cosa muy interesante con esto es que el metodo de concenso utiliza como variable mas importante el cuadro del medio medio, mientras que los otros no escogen esta variable como mas importante, si no que escogen las esquinas inferiores o superiores.\n",
    "\n",
    "Ademas de que tiene una precision global mejor que los otros tambien tiene, la presicion positiva y la precision negativa, muy superior a las otras.\n"
   ],
   "metadata": {
    "collapsed": false,
    "pycharm": {
     "name": "#%% md\n"
    }
   }
  },
  {
   "cell_type": "code",
   "execution_count": 73,
   "outputs": [
    {
     "data": {
      "text/plain": "                            Modelo  Precision Global  Error Global  \\\n0  Bosques Aleatorios ADA Boosting          0.890625      0.109375   \n0   Bosques Aleatorios XG Boosting          0.880208      0.119792   \n0               Bosques Aleatorios          0.901042      0.098958   \n\n   Verdaderos Positivos  Verdaderos Negativos  Falsos Negativos  \\\n0                   115                    56                 3   \n0                   116                    53                 2   \n0                   112                    61                 6   \n\n   Falsos Positivos  Precision Positiva (PP)  Precision Negativa (PN)  \n0                18                 0.756757                 0.974576  \n0                21                 0.716216                 0.983051  \n0                13                 0.824324                 0.949153  ",
      "text/html": "<div>\n<style scoped>\n    .dataframe tbody tr th:only-of-type {\n        vertical-align: middle;\n    }\n\n    .dataframe tbody tr th {\n        vertical-align: top;\n    }\n\n    .dataframe thead th {\n        text-align: right;\n    }\n</style>\n<table border=\"1\" class=\"dataframe\">\n  <thead>\n    <tr style=\"text-align: right;\">\n      <th></th>\n      <th>Modelo</th>\n      <th>Precision Global</th>\n      <th>Error Global</th>\n      <th>Verdaderos Positivos</th>\n      <th>Verdaderos Negativos</th>\n      <th>Falsos Negativos</th>\n      <th>Falsos Positivos</th>\n      <th>Precision Positiva (PP)</th>\n      <th>Precision Negativa (PN)</th>\n    </tr>\n  </thead>\n  <tbody>\n    <tr>\n      <th>0</th>\n      <td>Bosques Aleatorios ADA Boosting</td>\n      <td>0.890625</td>\n      <td>0.109375</td>\n      <td>115</td>\n      <td>56</td>\n      <td>3</td>\n      <td>18</td>\n      <td>0.756757</td>\n      <td>0.974576</td>\n    </tr>\n    <tr>\n      <th>0</th>\n      <td>Bosques Aleatorios XG Boosting</td>\n      <td>0.880208</td>\n      <td>0.119792</td>\n      <td>116</td>\n      <td>53</td>\n      <td>2</td>\n      <td>21</td>\n      <td>0.716216</td>\n      <td>0.983051</td>\n    </tr>\n    <tr>\n      <th>0</th>\n      <td>Bosques Aleatorios</td>\n      <td>0.901042</td>\n      <td>0.098958</td>\n      <td>112</td>\n      <td>61</td>\n      <td>6</td>\n      <td>13</td>\n      <td>0.824324</td>\n      <td>0.949153</td>\n    </tr>\n  </tbody>\n</table>\n</div>"
     },
     "execution_count": 73,
     "metadata": {},
     "output_type": "execute_result"
    }
   ],
   "source": [
    "reporteFinal = pd.concat([prediccionADABosting.reporte, prediccionXGBoosting.reporte, prediccionRandomForest.reporte])\n",
    "reporteFinal"
   ],
   "metadata": {
    "collapsed": false,
    "pycharm": {
     "name": "#%%\n"
    }
   }
  },
  {
   "cell_type": "code",
   "execution_count": 74,
   "outputs": [
    {
     "name": "stdout",
     "output_type": "stream",
     "text": [
      "\n",
      "Matriz de Confusión:\n",
      "[[1226    1]\n",
      " [   6  392]]\n",
      "\n",
      "Precisión Global:\n",
      "0.9956923076923077\n",
      "\n",
      "Error Global:\n",
      "0.004307692307692346\n",
      "\n",
      "Precisión por categoría:\n",
      "   Precision Positiva (PP)  Precision Negativa (PN)\n",
      "0                 0.999185                 0.984925\n",
      "[0.02685367 0.11321789 0.00738241 0.03796637 0.25958745 0.07680108\n",
      " 0.29662114 0.07367063 0.01720881 0.07551571 0.01330616 0.0018687 ]\n"
     ]
    },
    {
     "data": {
      "text/plain": "<Figure size 720x576 with 1 Axes>",
      "image/png": "[encoded data removed]"
     },
     "metadata": {
      "needs_background": "light"
     },
     "output_type": "display_data"
    }
   ],
   "source": [
    "datosWine = pd.read_csv(\"wine.csv\")\n",
    "prediccionRandomForest = PrediccionRandomForest(datosWine)\n",
    "prediccionRandomForest.entrenamiento(train_size=0.75)\n",
    "prediccionRandomForest.obtenerVariablesImportantes()\n"
   ],
   "metadata": {
    "collapsed": false,
    "pycharm": {
     "name": "#%%\n"
    }
   }
  },
  {
   "cell_type": "code",
   "execution_count": 75,
   "outputs": [
    {
     "name": "stdout",
     "output_type": "stream",
     "text": [
      "\n",
      "Matriz de Confusión:\n",
      "[[1217   10]\n",
      " [  14  384]]\n",
      "\n",
      "Precisión Global:\n",
      "0.9852307692307692\n",
      "\n",
      "Error Global:\n",
      "0.014769230769230757\n",
      "\n",
      "Precisión por categoría:\n",
      "   Precision Positiva (PP)  Precision Negativa (PN)\n",
      "0                  0.99185                 0.964824\n",
      "[            nan             nan             nan             nan\n",
      "             nan             nan             nan             nan\n",
      "             nan -2.97268777e-02             nan  8.91266404e-05]\n"
     ]
    },
    {
     "name": "stderr",
     "output_type": "stream",
     "text": [
      "/home/william/PycharmProjects/pythonProject/venv/lib/python3.8/site-packages/sklearn/tree/_classes.py:605: RuntimeWarning: invalid value encountered in true_divide\n",
      "  return self.tree_.compute_feature_importances()\n"
     ]
    },
    {
     "data": {
      "text/plain": "<Figure size 720x576 with 1 Axes>",
      "image/png": "[encoded data removed]"
     },
     "metadata": {
      "needs_background": "light"
     },
     "output_type": "display_data"
    }
   ],
   "source": [
    "prediccionADABoosting = PrediccionADABoosting(datosWine)\n",
    "prediccionADABoosting.entrenamiento(train_size=0.75)\n",
    "prediccionADABoosting.obtenerVariablesImportantes()"
   ],
   "metadata": {
    "collapsed": false,
    "pycharm": {
     "name": "#%%\n"
    }
   }
  },
  {
   "cell_type": "code",
   "execution_count": 76,
   "outputs": [
    {
     "name": "stdout",
     "output_type": "stream",
     "text": [
      "\n",
      "Matriz de Confusión:\n",
      "[[1219    8]\n",
      " [  14  384]]\n",
      "\n",
      "Precisión Global:\n",
      "0.9864615384615385\n",
      "\n",
      "Error Global:\n",
      "0.0135384615384615\n",
      "\n",
      "Precisión por categoría:\n",
      "   Precision Positiva (PP)  Precision Negativa (PN)\n",
      "0                  0.99348                 0.964824\n",
      "[0.00336954 0.04335976 0.00070099 0.01017999 0.20485135 0.00111279\n",
      " 0.6836528  0.01768589 0.01188626 0.01531976 0.00545288 0.002428  ]\n"
     ]
    },
    {
     "data": {
      "text/plain": "<Figure size 720x576 with 1 Axes>",
      "image/png": "[encoded data removed]"
     },
     "metadata": {
      "needs_background": "light"
     },
     "output_type": "display_data"
    }
   ],
   "source": [
    "prediccionXGBoosting = PrediccionXGBoosting(datosWine)\n",
    "prediccionXGBoosting.entrenamiento(train_size=0.75)\n",
    "prediccionXGBoosting.obtenerVariablesImportantes()"
   ],
   "metadata": {
    "collapsed": false,
    "pycharm": {
     "name": "#%%\n"
    }
   }
  },
  {
   "cell_type": "markdown",
   "source": [
    "En este caso sin la edicion de los parametros por defectos podemos observar que el metodo de bosques aleatorios esta prediciendo muy bien, aunque en realidad todos estan prediciendo bien y eso se puede notar tanto en la precision global, como en la precision positiva, y en la precision negativa.\n",
    "\n",
    "\n",
    "Sin embargo el de bosques aleatorios es superior por que es superior en todas las categorias, una cosa interesante es ver que la variable mas importante para esta clasificacion es la variable mas importante que es : total.sulfuro.dioxido."
   ],
   "metadata": {
    "collapsed": false,
    "pycharm": {
     "name": "#%% md\n"
    }
   }
  },
  {
   "cell_type": "code",
   "execution_count": 77,
   "outputs": [
    {
     "data": {
      "text/plain": "                            Modelo  Precision Global  Error Global  \\\n0               Bosques Aleatorios          0.995692      0.004308   \n0  Bosques Aleatorios ADA Boosting          0.985231      0.014769   \n0   Bosques Aleatorios XG Boosting          0.986462      0.013538   \n\n   Verdaderos Positivos  Verdaderos Negativos  Falsos Negativos  \\\n0                   392                  1226                 6   \n0                   384                  1217                14   \n0                   384                  1219                14   \n\n   Falsos Positivos  Precision Positiva (PP)  Precision Negativa (PN)  \n0                 1                 0.999185                 0.984925  \n0                10                 0.991850                 0.964824  \n0                 8                 0.993480                 0.964824  ",
      "text/html": "<div>\n<style scoped>\n    .dataframe tbody tr th:only-of-type {\n        vertical-align: middle;\n    }\n\n    .dataframe tbody tr th {\n        vertical-align: top;\n    }\n\n    .dataframe thead th {\n        text-align: right;\n    }\n</style>\n<table border=\"1\" class=\"dataframe\">\n  <thead>\n    <tr style=\"text-align: right;\">\n      <th></th>\n      <th>Modelo</th>\n      <th>Precision Global</th>\n      <th>Error Global</th>\n      <th>Verdaderos Positivos</th>\n      <th>Verdaderos Negativos</th>\n      <th>Falsos Negativos</th>\n      <th>Falsos Positivos</th>\n      <th>Precision Positiva (PP)</th>\n      <th>Precision Negativa (PN)</th>\n    </tr>\n  </thead>\n  <tbody>\n    <tr>\n      <th>0</th>\n      <td>Bosques Aleatorios</td>\n      <td>0.995692</td>\n      <td>0.004308</td>\n      <td>392</td>\n      <td>1226</td>\n      <td>6</td>\n      <td>1</td>\n      <td>0.999185</td>\n      <td>0.984925</td>\n    </tr>\n    <tr>\n      <th>0</th>\n      <td>Bosques Aleatorios ADA Boosting</td>\n      <td>0.985231</td>\n      <td>0.014769</td>\n      <td>384</td>\n      <td>1217</td>\n      <td>14</td>\n      <td>10</td>\n      <td>0.991850</td>\n      <td>0.964824</td>\n    </tr>\n    <tr>\n      <th>0</th>\n      <td>Bosques Aleatorios XG Boosting</td>\n      <td>0.986462</td>\n      <td>0.013538</td>\n      <td>384</td>\n      <td>1219</td>\n      <td>14</td>\n      <td>8</td>\n      <td>0.993480</td>\n      <td>0.964824</td>\n    </tr>\n  </tbody>\n</table>\n</div>"
     },
     "execution_count": 77,
     "metadata": {},
     "output_type": "execute_result"
    }
   ],
   "source": [
    "reporteFinal = pd.concat([prediccionRandomForest.reporte, prediccionADABoosting.reporte, prediccionXGBoosting.reporte])\n",
    "reporteFinal"
   ],
   "metadata": {
    "collapsed": false,
    "pycharm": {
     "name": "#%%\n"
    }
   }
  },
  {
   "cell_type": "code",
   "execution_count": 77,
   "outputs": [],
   "source": [
    "\n",
    "\n"
   ],
   "metadata": {
    "collapsed": false,
    "pycharm": {
     "name": "#%%\n"
    }
   }
  }
 ],
 "metadata": {
  "kernelspec": {
   "display_name": "Python 3",
   "language": "python",
   "name": "python3"
  },
  "language_info": {
   "codemirror_mode": {
    "name": "ipython",
    "version": 2
   },
   "file_extension": ".py",
   "mimetype": "text/x-python",
   "name": "python",
   "nbconvert_exporter": "python",
   "pygments_lexer": "ipython2",
   "version": "2.7.6"
  }
 },
 "nbformat": 4,
 "nbformat_minor": 0
}