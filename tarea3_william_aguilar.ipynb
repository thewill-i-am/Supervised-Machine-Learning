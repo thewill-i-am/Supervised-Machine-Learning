{
 "cells": [
  {
   "cell_type": "code",
   "execution_count": 84,
   "outputs": [],
   "source": [
    "import pandas as pd\n",
    "import numpy as np\n",
    "import os\n",
    "import graphviz\n",
    "from sklearn.ensemble import AdaBoostClassifier, RandomForestClassifier\n",
    "from sklearn.metrics import confusion_matrix\n",
    "from sklearn.model_selection import train_test_split\n",
    "from sklearn.neighbors import KNeighborsClassifier\n",
    "from sklearn.tree import DecisionTreeClassifier\n",
    "from sklearn.tree import export_graphviz\n",
    "import seaborn as sns\n",
    "import matplotlib.pyplot as plt\n",
    "from matplotlib import colors as mcolors\n",
    "from sklearn.ensemble import GradientBoostingClassifier\n",
    "\n",
    "os.chdir(\"/home/william/Desktop\")"
   ],
   "metadata": {
    "collapsed": false,
    "pycharm": {
     "name": "#%%\n"
    }
   }
  },
  {
   "cell_type": "code",
   "execution_count": 85,
   "outputs": [],
   "source": [
    "datosTicTacToe = pd.read_csv(\"tic-tac-toe.csv\")"
   ],
   "metadata": {
    "collapsed": false,
    "pycharm": {
     "name": "#%%\n"
    }
   }
  },
  {
   "cell_type": "code",
   "execution_count": 86,
   "outputs": [
    {
     "data": {
      "text/plain": "cuadro-superior-izquierdo     category\n cuadro-superior-medio        category\n cuadro-superior-derecho      category\n cuadro-medio-izquierdo       category\n cuadro-medio-medio           category\n  cuadro-medio-derecho        category\n cuadro-inferior-izquierdo    category\n cuadro-inferior-medio        category\n cuadro-inferior-derecho      category\n Gana-x                         object\ndtype: object"
     },
     "execution_count": 86,
     "metadata": {},
     "output_type": "execute_result"
    }
   ],
   "source": [
    "for x in datosTicTacToe:\n",
    "    if x != \" Gana-x\":\n",
    "        datosTicTacToe[x] = datosTicTacToe[x].astype('category')\n",
    "datosTicTacToe.dtypes"
   ],
   "metadata": {
    "collapsed": false,
    "pycharm": {
     "name": "#%%\n"
    }
   }
  },
  {
   "cell_type": "code",
   "execution_count": 87,
   "outputs": [],
   "source": [
    "datosTicTacToePosiblesResultados = list(set(datosTicTacToe.iloc[:, -1]))"
   ],
   "metadata": {
    "collapsed": false,
    "pycharm": {
     "name": "#%%\n"
    }
   }
  },
  {
   "cell_type": "code",
   "execution_count": 88,
   "outputs": [],
   "source": [
    "class PrediccionBase:\n",
    "    def __init__(self, datos):\n",
    "        self.__datos = self.cleaning(datos)\n",
    "        self.__precisionGlobal = 0\n",
    "        self.__error_global = 0\n",
    "        self.__verdaderosNegativos = 0\n",
    "        self.__falsosPositivos = 0\n",
    "        self.__falsosNegativos = 0\n",
    "        self.__verdaderosPositivos = 0\n",
    "        self.__reporte = 0\n",
    "        self.__precision_category = 0\n",
    "\n",
    "    @property\n",
    "    def datos(self):\n",
    "        return self.__datos\n",
    "\n",
    "    @property\n",
    "    def reporte(self):\n",
    "        return self.__reporte\n",
    "\n",
    "    def cleaning(self, datos):\n",
    "        datos = datos.replace({'x': 0, 'o': 1, 'b': 2})\n",
    "        return datos\n",
    "\n",
    "    def entrenamiento(self):\n",
    "        pass\n",
    "\n",
    "    def generacionReporte(self, nombreDelModelo):\n",
    "        dict = {\n",
    "            \"Modelo\": [nombreDelModelo],\n",
    "            \"Precision Global\": [self.__precisionGlobal],\n",
    "            \"Error Global\": [self.__error_global],\n",
    "            \"Verdaderos Positivos\": [self.__verdaderosPositivos],\n",
    "            \"Verdaderos Negativos\": [self.__verdaderosNegativos],\n",
    "            \"Falsos Negativos\": [self.__falsosNegativos],\n",
    "            \"Falsos Positivos\": [self.__falsosPositivos]}\n",
    "        self.__reporte = pd.DataFrame(dict).join(self.__precision_category)\n",
    "\n",
    "    def analsis(self, MC, modelo):\n",
    "        self.__verdaderosNegativos, self.__falsosPositivos, self.__falsosNegativos, self.__verdaderosPositivos = MC.ravel()\n",
    "        self.__precisionGlobal = np.sum(MC.diagonal()) / np.sum(MC)\n",
    "        self.__error_global = 1 - self.__precisionGlobal\n",
    "        self.__precision_category = pd.DataFrame(MC.diagonal() / np.sum(MC, axis=1)).T\n",
    "        self.__precision_category.columns = [\"Precision Positiva (PP)\", \"Precision Negativa (PN)\"]\n",
    "        self.generacionReporte(modelo)\n",
    "        return {\"Matriz de Confusión\": MC,\n",
    "                \"Precisión Global\": self.__precisionGlobal,\n",
    "                \"Error Global\": self.__error_global,\n",
    "                \"Precisión por categoría\": self.__precision_category}\n",
    "\n",
    "class PrediccionADABoosting(PrediccionBase):\n",
    "    def __init__(self, datos):\n",
    "        super().__init__(datos)\n",
    "        self.__instancia = None\n",
    "        self.__instancia_potenciacion = None\n",
    "        self.__x_train = []\n",
    "\n",
    "\n",
    "    def obtenerVariablesImportantes(self):\n",
    "        importancia =  self.__instancia_potenciacion.feature_importances_\n",
    "        print(importancia)\n",
    "        etiquetas = self.__x_train.columns.values\n",
    "        y_pos = np.arange(len(etiquetas))\n",
    "        plt.figure(figsize=(10,8))\n",
    "        plt.barh(y_pos, importancia, align='center', alpha=0.5)\n",
    "        plt.yticks(y_pos, etiquetas)\n",
    "\n",
    "\n",
    "    def entrenamiento(self, train_size=0.75):\n",
    "        x = self.datos.iloc[:, :-1]\n",
    "        y = self.datos.iloc[:, -1]\n",
    "        self.__instancia = DecisionTreeClassifier(min_samples_split = 2, max_depth=None,\n",
    "                                        criterion=\"gini\",splitter=\"best\")\n",
    "        self.__instancia_potenciacion = AdaBoostClassifier(base_estimator=self.__instancia,\n",
    "                                            n_estimators=100, random_state=0)\n",
    "        self.__x_train, x_test, y_train, y_test = train_test_split(x, y, train_size=train_size, random_state=0)\n",
    "        self.__instancia_potenciacion.fit(self.__x_train,y_train)\n",
    "        prediccion = self.__instancia_potenciacion.predict(x_test)\n",
    "        MC = confusion_matrix(y_test, prediccion)\n",
    "        indices = self.analsis(MC, \"Arbol de Decisiones\")\n",
    "        for k in indices:\n",
    "            print(\"\\n%s:\\n%s\" % (k, str(indices[k])))\n",
    "\n",
    "\n",
    "class PrediccionXGBoosting(PrediccionBase):\n",
    "    def __init__(self, datos):\n",
    "        super().__init__(datos)\n",
    "        self.__instancia = None\n",
    "        self.__instancia_potenciacion = None\n",
    "        self.__x_train = []\n",
    "\n",
    "    def obtenerVariablesImportantes(self):\n",
    "        importancia =  self.__instancia_potenciacion.feature_importances_\n",
    "        print(importancia)\n",
    "        etiquetas = self.__x_train.columns.values\n",
    "        y_pos = np.arange(len(etiquetas))\n",
    "        plt.figure(figsize=(10,8))\n",
    "        plt.barh(y_pos, importancia, align='center', alpha=0.5)\n",
    "        plt.yticks(y_pos, etiquetas)\n",
    "\n",
    "    def entrenamiento(self, train_size=0.75):\n",
    "        x = self.datos.iloc[:, :-1]\n",
    "        y = self.datos.iloc[:, -1]\n",
    "\n",
    "        self.__instancia_potenciacion = GradientBoostingClassifier(n_estimators=10, random_state=0,\n",
    "                                                    min_samples_split=2, max_depth = None)\n",
    "\n",
    "        self.__x_train, x_test, y_train, y_test = train_test_split(x, y, train_size=train_size, random_state=0)\n",
    "        self.__instancia_potenciacion.fit(self.__x_train,y_train)\n",
    "        prediccion = self.__instancia_potenciacion.predict(x_test)\n",
    "        MC = confusion_matrix(y_test, prediccion)\n",
    "        indices = self.analsis(MC, \"Arbol de Decisiones\")\n",
    "        for k in indices:\n",
    "            print(\"\\n%s:\\n%s\" % (k, str(indices[k])))\n",
    "\n",
    "class PrediccionRandomForest(PrediccionBase):\n",
    "    def __init__(self, datos):\n",
    "        super().__init__(datos)\n",
    "        self.__instancia = None\n",
    "        self.__instancia_potenciacion = None\n",
    "        self.__x_train = []\n",
    "\n",
    "    def obtenerVariablesImportantes(self):\n",
    "        importancia =  self.__instancia_potenciacion.feature_importances_\n",
    "        print(importancia)\n",
    "        etiquetas = self.__x_train.columns.values\n",
    "        y_pos = np.arange(len(etiquetas))\n",
    "        plt.figure(figsize=(10,8))\n",
    "        plt.barh(y_pos, importancia, align='center', alpha=0.5)\n",
    "        plt.yticks(y_pos, etiquetas)\n",
    "\n",
    "    def entrenamiento(self, train_size=0.75):\n",
    "        x = self.datos.iloc[:, :-1]\n",
    "        y = self.datos.iloc[:, -1]\n",
    "\n",
    "        self.__instancia_potenciacion = RandomForestClassifier(n_estimators=10, random_state=0)\n",
    "\n",
    "        self.__x_train, x_test, y_train, y_test = train_test_split(x, y, train_size=train_size, random_state=0)\n",
    "        self.__instancia_potenciacion.fit(self.__x_train ,y_train)\n",
    "        prediccion = self.__instancia_potenciacion.predict(x_test)\n",
    "        MC = confusion_matrix(y_test, prediccion)\n",
    "        indices = self.analsis(MC, \"Arbol de Decisiones\")\n",
    "        for k in indices:\n",
    "            print(\"\\n%s:\\n%s\" % (k, str(indices[k])))"
   ],
   "metadata": {
    "collapsed": false,
    "pycharm": {
     "name": "#%%\n"
    }
   }
  },
  {
   "cell_type": "code",
   "execution_count": 89,
   "outputs": [
    {
     "name": "stdout",
     "output_type": "stream",
     "text": [
      "\n",
      "Matriz de Confusión:\n",
      "[[ 69  17]\n",
      " [  9 145]]\n",
      "\n",
      "Precisión Global:\n",
      "0.8916666666666667\n",
      "\n",
      "Error Global:\n",
      "0.10833333333333328\n",
      "\n",
      "Precisión por categoría:\n",
      "   Precision Positiva (PP)  Precision Negativa (PN)\n",
      "0                 0.802326                 0.941558\n"
     ]
    },
    {
     "data": {
      "text/plain": "                Modelo  Precision Global  Error Global  Verdaderos Positivos  \\\n0  Arbol de Decisiones          0.891667      0.108333                   145   \n\n   Verdaderos Negativos  Falsos Negativos  Falsos Positivos  \\\n0                    69                 9                17   \n\n   Precision Positiva (PP)  Precision Negativa (PN)  \n0                 0.802326                 0.941558  ",
      "text/html": "<div>\n<style scoped>\n    .dataframe tbody tr th:only-of-type {\n        vertical-align: middle;\n    }\n\n    .dataframe tbody tr th {\n        vertical-align: top;\n    }\n\n    .dataframe thead th {\n        text-align: right;\n    }\n</style>\n<table border=\"1\" class=\"dataframe\">\n  <thead>\n    <tr style=\"text-align: right;\">\n      <th></th>\n      <th>Modelo</th>\n      <th>Precision Global</th>\n      <th>Error Global</th>\n      <th>Verdaderos Positivos</th>\n      <th>Verdaderos Negativos</th>\n      <th>Falsos Negativos</th>\n      <th>Falsos Positivos</th>\n      <th>Precision Positiva (PP)</th>\n      <th>Precision Negativa (PN)</th>\n    </tr>\n  </thead>\n  <tbody>\n    <tr>\n      <th>0</th>\n      <td>Arbol de Decisiones</td>\n      <td>0.891667</td>\n      <td>0.108333</td>\n      <td>145</td>\n      <td>69</td>\n      <td>9</td>\n      <td>17</td>\n      <td>0.802326</td>\n      <td>0.941558</td>\n    </tr>\n  </tbody>\n</table>\n</div>"
     },
     "execution_count": 89,
     "metadata": {},
     "output_type": "execute_result"
    }
   ],
   "source": [
    "prediccionADABosting = PrediccionADABoosting(datos=datosTicTacToe)\n",
    "prediccionADABosting.entrenamiento()\n",
    "prediccionADABosting.reporte"
   ],
   "metadata": {
    "collapsed": false,
    "pycharm": {
     "name": "#%%\n"
    }
   }
  },
  {
   "cell_type": "code",
   "execution_count": 90,
   "outputs": [
    {
     "name": "stdout",
     "output_type": "stream",
     "text": [
      "[0.12750074 0.07883277 0.07582998 0.097696   0.13403044 0.12201971\n",
      " 0.16942481 0.08187425 0.1127913 ]\n"
     ]
    },
    {
     "data": {
      "text/plain": "<Figure size 720x576 with 1 Axes>",
      "image/png": "[encoded data removed]"
     },
     "metadata": {
      "needs_background": "light"
     },
     "output_type": "display_data"
    }
   ],
   "source": [
    "prediccionADABosting.obtenerVariablesImportantes()"
   ],
   "metadata": {
    "collapsed": false,
    "pycharm": {
     "name": "#%%\n"
    }
   }
  },
  {
   "cell_type": "code",
   "execution_count": 91,
   "outputs": [
    {
     "name": "stdout",
     "output_type": "stream",
     "text": [
      "\n",
      "Matriz de Confusión:\n",
      "[[ 66  20]\n",
      " [  7 147]]\n",
      "\n",
      "Precisión Global:\n",
      "0.8875\n",
      "\n",
      "Error Global:\n",
      "0.11250000000000004\n",
      "\n",
      "Precisión por categoría:\n",
      "   Precision Positiva (PP)  Precision Negativa (PN)\n",
      "0                 0.767442                 0.954545\n"
     ]
    },
    {
     "data": {
      "text/plain": "                Modelo  Precision Global  Error Global  Verdaderos Positivos  \\\n0  Arbol de Decisiones            0.8875        0.1125                   147   \n\n   Verdaderos Negativos  Falsos Negativos  Falsos Positivos  \\\n0                    66                 7                20   \n\n   Precision Positiva (PP)  Precision Negativa (PN)  \n0                 0.767442                 0.954545  ",
      "text/html": "<div>\n<style scoped>\n    .dataframe tbody tr th:only-of-type {\n        vertical-align: middle;\n    }\n\n    .dataframe tbody tr th {\n        vertical-align: top;\n    }\n\n    .dataframe thead th {\n        text-align: right;\n    }\n</style>\n<table border=\"1\" class=\"dataframe\">\n  <thead>\n    <tr style=\"text-align: right;\">\n      <th></th>\n      <th>Modelo</th>\n      <th>Precision Global</th>\n      <th>Error Global</th>\n      <th>Verdaderos Positivos</th>\n      <th>Verdaderos Negativos</th>\n      <th>Falsos Negativos</th>\n      <th>Falsos Positivos</th>\n      <th>Precision Positiva (PP)</th>\n      <th>Precision Negativa (PN)</th>\n    </tr>\n  </thead>\n  <tbody>\n    <tr>\n      <th>0</th>\n      <td>Arbol de Decisiones</td>\n      <td>0.8875</td>\n      <td>0.1125</td>\n      <td>147</td>\n      <td>66</td>\n      <td>7</td>\n      <td>20</td>\n      <td>0.767442</td>\n      <td>0.954545</td>\n    </tr>\n  </tbody>\n</table>\n</div>"
     },
     "execution_count": 91,
     "metadata": {},
     "output_type": "execute_result"
    }
   ],
   "source": [
    "prediccionXGBoosting = PrediccionXGBoosting(datos=datosTicTacToe)\n",
    "prediccionXGBoosting.entrenamiento()\n",
    "prediccionXGBoosting.reporte"
   ],
   "metadata": {
    "collapsed": false,
    "pycharm": {
     "name": "#%%\n"
    }
   }
  },
  {
   "cell_type": "code",
   "execution_count": 92,
   "outputs": [
    {
     "name": "stdout",
     "output_type": "stream",
     "text": [
      "[0.12978171 0.07135578 0.08045075 0.10440652 0.13403044 0.11617587\n",
      " 0.16989764 0.08491996 0.10898133]\n"
     ]
    },
    {
     "data": {
      "text/plain": "<Figure size 720x576 with 1 Axes>",
      "image/png": "[encoded data removed]"
     },
     "metadata": {
      "needs_background": "light"
     },
     "output_type": "display_data"
    }
   ],
   "source": [
    "prediccionXGBoosting.obtenerVariablesImportantes()"
   ],
   "metadata": {
    "collapsed": false,
    "pycharm": {
     "name": "#%%\n"
    }
   }
  },
  {
   "cell_type": "code",
   "execution_count": 93,
   "outputs": [
    {
     "name": "stdout",
     "output_type": "stream",
     "text": [
      "\n",
      "Matriz de Confusión:\n",
      "[[ 75  11]\n",
      " [  2 152]]\n",
      "\n",
      "Precisión Global:\n",
      "0.9458333333333333\n",
      "\n",
      "Error Global:\n",
      "0.054166666666666696\n",
      "\n",
      "Precisión por categoría:\n",
      "   Precision Positiva (PP)  Precision Negativa (PN)\n",
      "0                 0.872093                 0.987013\n"
     ]
    },
    {
     "data": {
      "text/plain": "                Modelo  Precision Global  Error Global  Verdaderos Positivos  \\\n0  Arbol de Decisiones          0.945833      0.054167                   152   \n\n   Verdaderos Negativos  Falsos Negativos  Falsos Positivos  \\\n0                    75                 2                11   \n\n   Precision Positiva (PP)  Precision Negativa (PN)  \n0                 0.872093                 0.987013  ",
      "text/html": "<div>\n<style scoped>\n    .dataframe tbody tr th:only-of-type {\n        vertical-align: middle;\n    }\n\n    .dataframe tbody tr th {\n        vertical-align: top;\n    }\n\n    .dataframe thead th {\n        text-align: right;\n    }\n</style>\n<table border=\"1\" class=\"dataframe\">\n  <thead>\n    <tr style=\"text-align: right;\">\n      <th></th>\n      <th>Modelo</th>\n      <th>Precision Global</th>\n      <th>Error Global</th>\n      <th>Verdaderos Positivos</th>\n      <th>Verdaderos Negativos</th>\n      <th>Falsos Negativos</th>\n      <th>Falsos Positivos</th>\n      <th>Precision Positiva (PP)</th>\n      <th>Precision Negativa (PN)</th>\n    </tr>\n  </thead>\n  <tbody>\n    <tr>\n      <th>0</th>\n      <td>Arbol de Decisiones</td>\n      <td>0.945833</td>\n      <td>0.054167</td>\n      <td>152</td>\n      <td>75</td>\n      <td>2</td>\n      <td>11</td>\n      <td>0.872093</td>\n      <td>0.987013</td>\n    </tr>\n  </tbody>\n</table>\n</div>"
     },
     "execution_count": 93,
     "metadata": {},
     "output_type": "execute_result"
    }
   ],
   "source": [
    "prediccionRandomForest = PrediccionRandomForest(datos=datosTicTacToe);\n",
    "prediccionRandomForest.entrenamiento()\n",
    "prediccionRandomForest.reporte"
   ],
   "metadata": {
    "collapsed": false,
    "pycharm": {
     "name": "#%%\n"
    }
   }
  },
  {
   "cell_type": "code",
   "execution_count": 94,
   "outputs": [
    {
     "name": "stdout",
     "output_type": "stream",
     "text": [
      "[0.12307776 0.1080632  0.10836162 0.08515583 0.13403747 0.10309665\n",
      " 0.11732241 0.10265419 0.11823087]\n"
     ]
    },
    {
     "data": {
      "text/plain": "<Figure size 720x576 with 1 Axes>",
      "image/png": "[encoded data removed]"
     },
     "metadata": {
      "needs_background": "light"
     },
     "output_type": "display_data"
    }
   ],
   "source": [
    "prediccionRandomForest.obtenerVariablesImportantes()\n"
   ],
   "metadata": {
    "collapsed": false,
    "pycharm": {
     "name": "#%%\n"
    }
   }
  }
 ],
 "metadata": {
  "kernelspec": {
   "display_name": "Python 3",
   "language": "python",
   "name": "python3"
  },
  "language_info": {
   "codemirror_mode": {
    "name": "ipython",
    "version": 2
   },
   "file_extension": ".py",
   "mimetype": "text/x-python",
   "name": "python",
   "nbconvert_exporter": "python",
   "pygments_lexer": "ipython2",
   "version": "2.7.6"
  }
 },
 "nbformat": 4,
 "nbformat_minor": 0
}