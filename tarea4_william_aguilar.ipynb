{
 "cells": [
  {
   "cell_type": "code",
   "execution_count": 139,
   "metadata": {
    "collapsed": true
   },
   "outputs": [],
   "source": [
    "import pandas as pd\n",
    "import numpy as np\n",
    "import os\n",
    "from sklearn.ensemble import AdaBoostClassifier, RandomForestClassifier\n",
    "from sklearn.metrics import confusion_matrix\n",
    "from sklearn.model_selection import train_test_split\n",
    "from sklearn.neighbors import KNeighborsClassifier\n",
    "from sklearn.tree import DecisionTreeClassifier\n",
    "import matplotlib.pyplot as plt\n",
    "from sklearn.ensemble import GradientBoostingClassifier\n",
    "from sklearn.svm import SVC\n",
    "from random import randint\n",
    "\n",
    "os.chdir(\"/home/william/Desktop\")"
   ]
  },
  {
   "cell_type": "code",
   "execution_count": 140,
   "outputs": [],
   "source": [
    "datosTicTacToe = pd.read_csv(\"tic-tac-toe.csv\")"
   ],
   "metadata": {
    "collapsed": false,
    "pycharm": {
     "name": "#%%\n"
    }
   }
  },
  {
   "cell_type": "code",
   "execution_count": 141,
   "outputs": [
    {
     "data": {
      "text/plain": "cuadro-superior-izquierdo     category\n cuadro-superior-medio        category\n cuadro-superior-derecho      category\n cuadro-medio-izquierdo       category\n cuadro-medio-medio           category\n  cuadro-medio-derecho        category\n cuadro-inferior-izquierdo    category\n cuadro-inferior-medio        category\n cuadro-inferior-derecho      category\n Gana-x                         object\ndtype: object"
     },
     "execution_count": 141,
     "metadata": {},
     "output_type": "execute_result"
    }
   ],
   "source": [
    "for x in datosTicTacToe:\n",
    "    if x != \" Gana-x\":\n",
    "        datosTicTacToe[x] = datosTicTacToe[x].astype('category')\n",
    "datosTicTacToe.dtypes"
   ],
   "metadata": {
    "collapsed": false,
    "pycharm": {
     "name": "#%%\n"
    }
   }
  },
  {
   "cell_type": "code",
   "execution_count": 142,
   "outputs": [],
   "source": [
    "datosTicTacToePosiblesResultados = list(set(datosTicTacToe.iloc[:, -1]))"
   ],
   "metadata": {
    "collapsed": false,
    "pycharm": {
     "name": "#%%\n"
    }
   }
  },
  {
   "cell_type": "code",
   "execution_count": 143,
   "outputs": [],
   "source": [
    "class PrediccionBase:\n",
    "    def __init__(self, datos):\n",
    "        self.__datos = self.cleaning(datos)\n",
    "        self.__precisionGlobal = 0\n",
    "        self.__error_global = 0\n",
    "        self.__verdaderosNegativos = 0\n",
    "        self.__falsosPositivos = 0\n",
    "        self.__falsosNegativos = 0\n",
    "        self.__verdaderosPositivos = 0\n",
    "        self.__reporte = 0\n",
    "        self.__precision_category = 0\n",
    "\n",
    "    @property\n",
    "    def datos(self):\n",
    "        return self.__datos\n",
    "\n",
    "    @property\n",
    "    def reporte(self):\n",
    "        return self.__reporte\n",
    "\n",
    "    def cleaning(self, datos):\n",
    "        datos = datos.replace({'x': 0, 'o': 1, 'b': 2})\n",
    "        return datos\n",
    "\n",
    "    def entrenamiento(self):\n",
    "        pass\n",
    "\n",
    "    def generacionReporte(self, nombreDelModelo):\n",
    "        dict = {\n",
    "            \"Modelo\": [nombreDelModelo],\n",
    "            \"Precision Global\": [self.__precisionGlobal],\n",
    "            \"Error Global\": [self.__error_global],\n",
    "            \"Verdaderos Positivos\": [self.__verdaderosPositivos],\n",
    "            \"Verdaderos Negativos\": [self.__verdaderosNegativos],\n",
    "            \"Falsos Negativos\": [self.__falsosNegativos],\n",
    "            \"Falsos Positivos\": [self.__falsosPositivos]}\n",
    "        self.__reporte = pd.DataFrame(dict).join(self.__precision_category)\n",
    "\n",
    "    def analsis(self, MC, modelo):\n",
    "        self.__verdaderosNegativos, self.__falsosPositivos, self.__falsosNegativos, self.__verdaderosPositivos = MC.ravel()\n",
    "        self.__precisionGlobal = np.sum(MC.diagonal()) / np.sum(MC)\n",
    "        self.__error_global = 1 - self.__precisionGlobal\n",
    "        self.__precision_category = pd.DataFrame(MC.diagonal() / np.sum(MC, axis=1)).T\n",
    "        self.__precision_category.columns = [\"Precision Positiva (PP)\", \"Precision Negativa (PN)\"]\n",
    "        self.generacionReporte(modelo)\n",
    "        return {\"Matriz de Confusión\": MC,\n",
    "                \"Precisión Global\": self.__precisionGlobal,\n",
    "                \"Error Global\": self.__error_global,\n",
    "                \"Precisión por categoría\": self.__precision_category}\n",
    "\n",
    "class PrediccionSVN(PrediccionBase):\n",
    "    def __init__(self, datos):\n",
    "        super().__init__(datos)\n",
    "        self.__instancia = None\n",
    "        self.__instancia_potenciacion = None\n",
    "        self.__x_train = []\n",
    "\n",
    "    @property\n",
    "    def instancia(self):\n",
    "        return self.__instancia_potenciacion\n",
    "\n",
    "    @property\n",
    "    def x_test(self):\n",
    "        return self.__x_test\n",
    "\n",
    "    def obtenerVariablesImportantes(self):\n",
    "        importancia = self.__instancia_potenciacion.feature_importances_\n",
    "        print(importancia)\n",
    "        etiquetas = self.__x_train.columns.values\n",
    "        y_pos = np.arange(len(etiquetas))\n",
    "        plt.figure(figsize=(10, 8))\n",
    "        plt.barh(y_pos, importancia, align='center', alpha=0.5)\n",
    "        plt.yticks(y_pos, etiquetas)\n",
    "\n",
    "    def entrenamiento(self, kernel = \"linear\", entrenamiento=\"Suport Vector Machine\",train_size=0.8):\n",
    "        x = self.datos.iloc[:, :-1]\n",
    "        y = self.datos.iloc[:, -1]\n",
    "\n",
    "        self.__instancia_potenciacion = SVC(kernel=kernel ,random_state=0)\n",
    "\n",
    "        self.__x_train, self.__x_test, y_train, y_test = train_test_split(x, y, train_size=train_size, random_state=0)\n",
    "        self.__instancia_potenciacion.fit(self.__x_train, y_train)\n",
    "        prediccion = self.__instancia_potenciacion.predict(self.__x_test)\n",
    "        MC = confusion_matrix(y_test, prediccion)\n",
    "        indices = self.analsis(MC, entrenamiento)\n",
    "        for k in indices:\n",
    "             print(\"\\n%s:\\n%s\" % (k, str(indices[k])))\n",
    "\n",
    "class PrediccionRandomForest(PrediccionBase):\n",
    "    def __init__(self, datos):\n",
    "        super().__init__(datos)\n",
    "        self.__instancia = None\n",
    "        self.__instancia_potenciacion = None\n",
    "        self.__x_train = []\n",
    "\n",
    "    @property\n",
    "    def instancia(self):\n",
    "        return self.__instancia_potenciacion\n",
    "\n",
    "    @property\n",
    "    def x_test(self):\n",
    "        return self.__x_test\n",
    "\n",
    "    def obtenerVariablesImportantes(self):\n",
    "        importancia = self.__instancia_potenciacion.feature_importances_\n",
    "        print(importancia)\n",
    "        etiquetas = self.__x_train.columns.values\n",
    "        y_pos = np.arange(len(etiquetas))\n",
    "        plt.figure(figsize=(10, 8))\n",
    "        plt.barh(y_pos, importancia, align='center', alpha=0.5)\n",
    "        plt.yticks(y_pos, etiquetas)\n",
    "\n",
    "    def entrenamiento(self, train_size=0.75, n_estimators=10, entrenamiento=\"Bosques Aleatorios\"):\n",
    "        x = self.datos.iloc[:, :-1]\n",
    "        y = self.datos.iloc[:, -1]\n",
    "\n",
    "        self.__instancia_potenciacion = RandomForestClassifier(n_estimators=n_estimators, random_state=0)\n",
    "\n",
    "        self.__x_train, self.__x_test, y_train, y_test = train_test_split(x, y, train_size=train_size, random_state=0)\n",
    "        self.__instancia_potenciacion.fit(self.__x_train, y_train)\n",
    "        prediccion = self.__instancia_potenciacion.predict(self.__x_test)\n",
    "        MC = confusion_matrix(y_test, prediccion)\n",
    "        indices = self.analsis(MC, entrenamiento)\n",
    "        # for k in indices:\n",
    "        #     print(\"\\n%s:\\n%s\" % (k, str(indices[k])))"
   ],
   "metadata": {
    "collapsed": false,
    "pycharm": {
     "name": "#%%\n"
    }
   }
  },
  {
   "cell_type": "markdown",
   "source": [
    "Como podemos ver en el modelo predictivo de abajo, el modelo SVN RBF.\n",
    "Tenemos una precision global del 0.875 lo cual es muy bueno, ademas, tiene un error global muy bajo.\n",
    "\n",
    "La precision positiva es de un 67%, y una prediccion del 100% para la prediccion negativa."
   ],
   "metadata": {
    "collapsed": false
   }
  },
  {
   "cell_type": "code",
   "execution_count": 144,
   "outputs": [
    {
     "name": "stdout",
     "output_type": "stream",
     "text": [
      "\n",
      "Matriz de Confusión:\n",
      "[[ 50  24]\n",
      " [  0 118]]\n",
      "\n",
      "Precisión Global:\n",
      "0.875\n",
      "\n",
      "Error Global:\n",
      "0.125\n",
      "\n",
      "Precisión por categoría:\n",
      "   Precision Positiva (PP)  Precision Negativa (PN)\n",
      "0                 0.675676                      1.0\n"
     ]
    }
   ],
   "source": [
    "#posibles Kernel : ‘linear’, ‘poly’, ‘rbf’, ‘sigmoid’\n",
    "prediccionSVNTicTacRbf = PrediccionSVN(datos=datosTicTacToe)\n",
    "prediccionSVNTicTacRbf.entrenamiento(kernel='rbf', entrenamiento=\"SVN RBF\")\n"
   ],
   "metadata": {
    "collapsed": false,
    "pycharm": {
     "name": "#%%\n"
    }
   }
  },
  {
   "cell_type": "markdown",
   "source": [
    "En este otro caso podemos ver que el nucleo de sigmoide predice muy terrible, se puede ver en la precision global, y en que no esta prediciendo bien los verdaderos negativos\n",
    "\n",
    "Tiene una precision alta, y un error global alto tambie, ademas las precisiones son muy malas tambien"
   ],
   "metadata": {
    "collapsed": false
   }
  },
  {
   "cell_type": "code",
   "execution_count": 145,
   "outputs": [
    {
     "name": "stdout",
     "output_type": "stream",
     "text": [
      "\n",
      "Matriz de Confusión:\n",
      "[[ 2 72]\n",
      " [44 74]]\n",
      "\n",
      "Precisión Global:\n",
      "0.3958333333333333\n",
      "\n",
      "Error Global:\n",
      "0.6041666666666667\n",
      "\n",
      "Precisión por categoría:\n",
      "   Precision Positiva (PP)  Precision Negativa (PN)\n",
      "0                 0.027027                 0.627119\n"
     ]
    }
   ],
   "source": [
    "prediccionSVNSigmoid = PrediccionSVN(datos=datosTicTacToe)\n",
    "prediccionSVNSigmoid.entrenamiento(kernel='sigmoid',entrenamiento=\"SVN SIGMOID\")"
   ],
   "metadata": {
    "collapsed": false,
    "pycharm": {
     "name": "#%%\n"
    }
   }
  },
  {
   "cell_type": "markdown",
   "source": [
    "Como podemos ver en el dataset de abajo, rectifica lo que dijimos arriba, el modelo de RBF, de acuerdo a los datos predice mucho mejor que la otra."
   ],
   "metadata": {
    "collapsed": false,
    "pycharm": {
     "name": "#%% md\n"
    }
   }
  },
  {
   "cell_type": "code",
   "execution_count": 146,
   "outputs": [
    {
     "data": {
      "text/plain": "        Modelo  Precision Global  Error Global  Verdaderos Positivos  \\\n0      SVN RBF          0.875000      0.125000                   118   \n0  SVN SIGMOID          0.395833      0.604167                    74   \n\n   Verdaderos Negativos  Falsos Negativos  Falsos Positivos  \\\n0                    50                 0                24   \n0                     2                44                72   \n\n   Precision Positiva (PP)  Precision Negativa (PN)  \n0                 0.675676                 1.000000  \n0                 0.027027                 0.627119  ",
      "text/html": "<div>\n<style scoped>\n    .dataframe tbody tr th:only-of-type {\n        vertical-align: middle;\n    }\n\n    .dataframe tbody tr th {\n        vertical-align: top;\n    }\n\n    .dataframe thead th {\n        text-align: right;\n    }\n</style>\n<table border=\"1\" class=\"dataframe\">\n  <thead>\n    <tr style=\"text-align: right;\">\n      <th></th>\n      <th>Modelo</th>\n      <th>Precision Global</th>\n      <th>Error Global</th>\n      <th>Verdaderos Positivos</th>\n      <th>Verdaderos Negativos</th>\n      <th>Falsos Negativos</th>\n      <th>Falsos Positivos</th>\n      <th>Precision Positiva (PP)</th>\n      <th>Precision Negativa (PN)</th>\n    </tr>\n  </thead>\n  <tbody>\n    <tr>\n      <th>0</th>\n      <td>SVN RBF</td>\n      <td>0.875000</td>\n      <td>0.125000</td>\n      <td>118</td>\n      <td>50</td>\n      <td>0</td>\n      <td>24</td>\n      <td>0.675676</td>\n      <td>1.000000</td>\n    </tr>\n    <tr>\n      <th>0</th>\n      <td>SVN SIGMOID</td>\n      <td>0.395833</td>\n      <td>0.604167</td>\n      <td>74</td>\n      <td>2</td>\n      <td>44</td>\n      <td>72</td>\n      <td>0.027027</td>\n      <td>0.627119</td>\n    </tr>\n  </tbody>\n</table>\n</div>"
     },
     "execution_count": 146,
     "metadata": {},
     "output_type": "execute_result"
    }
   ],
   "source": [
    "pd.concat([prediccionSVNTicTacRbf.reporte, prediccionSVNSigmoid.reporte])"
   ],
   "metadata": {
    "collapsed": false,
    "pycharm": {
     "name": "#%%\n"
    }
   }
  },
  {
   "cell_type": "code",
   "execution_count": 147,
   "outputs": [],
   "source": [
    "datosWine = pd.read_csv(\"wine.csv\")"
   ],
   "metadata": {
    "collapsed": false,
    "pycharm": {
     "name": "#%%\n"
    }
   }
  },
  {
   "cell_type": "markdown",
   "source": [
    "El modelo linear predice excelente tiene una precision global del 98% y un error global del 0.10%, ademas si vemos las precisiones positivas podemos ver que tiene un 99% y la negativa un 96%\n",
    "Este modelo es una maravilla para la prediccion!"
   ],
   "metadata": {
    "collapsed": false,
    "pycharm": {
     "name": "#%% md\n"
    }
   }
  },
  {
   "cell_type": "code",
   "source": [
    "prediccionSVNWineLinear = PrediccionSVN(datos=datosWine)\n",
    "prediccionSVNWineLinear.entrenamiento(kernel='linear', entrenamiento=\"SVN Linear\", train_size=0.75)\n",
    "prediccionSVNWineLinear.reporte"
   ],
   "metadata": {
    "collapsed": false,
    "pycharm": {
     "name": "#%%\n"
    }
   },
   "execution_count": 148,
   "outputs": [
    {
     "name": "stdout",
     "output_type": "stream",
     "text": [
      "\n",
      "Matriz de Confusión:\n",
      "[[1224    3]\n",
      " [  14  384]]\n",
      "\n",
      "Precisión Global:\n",
      "0.9895384615384616\n",
      "\n",
      "Error Global:\n",
      "0.010461538461538411\n",
      "\n",
      "Precisión por categoría:\n",
      "   Precision Positiva (PP)  Precision Negativa (PN)\n",
      "0                 0.997555                 0.964824\n"
     ]
    },
    {
     "data": {
      "text/plain": "       Modelo  Precision Global  Error Global  Verdaderos Positivos  \\\n0  SVN Linear          0.989538      0.010462                   384   \n\n   Verdaderos Negativos  Falsos Negativos  Falsos Positivos  \\\n0                  1224                14                 3   \n\n   Precision Positiva (PP)  Precision Negativa (PN)  \n0                 0.997555                 0.964824  ",
      "text/html": "<div>\n<style scoped>\n    .dataframe tbody tr th:only-of-type {\n        vertical-align: middle;\n    }\n\n    .dataframe tbody tr th {\n        vertical-align: top;\n    }\n\n    .dataframe thead th {\n        text-align: right;\n    }\n</style>\n<table border=\"1\" class=\"dataframe\">\n  <thead>\n    <tr style=\"text-align: right;\">\n      <th></th>\n      <th>Modelo</th>\n      <th>Precision Global</th>\n      <th>Error Global</th>\n      <th>Verdaderos Positivos</th>\n      <th>Verdaderos Negativos</th>\n      <th>Falsos Negativos</th>\n      <th>Falsos Positivos</th>\n      <th>Precision Positiva (PP)</th>\n      <th>Precision Negativa (PN)</th>\n    </tr>\n  </thead>\n  <tbody>\n    <tr>\n      <th>0</th>\n      <td>SVN Linear</td>\n      <td>0.989538</td>\n      <td>0.010462</td>\n      <td>384</td>\n      <td>1224</td>\n      <td>14</td>\n      <td>3</td>\n      <td>0.997555</td>\n      <td>0.964824</td>\n    </tr>\n  </tbody>\n</table>\n</div>"
     },
     "execution_count": 148,
     "metadata": {},
     "output_type": "execute_result"
    }
   ]
  },
  {
   "cell_type": "markdown",
   "source": [
    "Por otra parte el modelo SIGMOIDE esta fallando un poco mas que el modelo anterior, como podemos ver en la precision global, y ademas como podemos ver la matriz de correlacion esta hablando muy mal de la forma en la que predice este modelo"
   ],
   "metadata": {
    "collapsed": false
   }
  },
  {
   "cell_type": "code",
   "execution_count": 149,
   "outputs": [
    {
     "name": "stdout",
     "output_type": "stream",
     "text": [
      "\n",
      "Matriz de Confusión:\n",
      "[[1034  193]\n",
      " [ 214  184]]\n",
      "\n",
      "Precisión Global:\n",
      "0.7495384615384615\n",
      "\n",
      "Error Global:\n",
      "0.2504615384615385\n",
      "\n",
      "Precisión por categoría:\n",
      "   Precision Positiva (PP)  Precision Negativa (PN)\n",
      "0                 0.842706                 0.462312\n"
     ]
    },
    {
     "data": {
      "text/plain": "        Modelo  Precision Global  Error Global  Verdaderos Positivos  \\\n0  SVN SIGMOID          0.749538      0.250462                   184   \n\n   Verdaderos Negativos  Falsos Negativos  Falsos Positivos  \\\n0                  1034               214               193   \n\n   Precision Positiva (PP)  Precision Negativa (PN)  \n0                 0.842706                 0.462312  ",
      "text/html": "<div>\n<style scoped>\n    .dataframe tbody tr th:only-of-type {\n        vertical-align: middle;\n    }\n\n    .dataframe tbody tr th {\n        vertical-align: top;\n    }\n\n    .dataframe thead th {\n        text-align: right;\n    }\n</style>\n<table border=\"1\" class=\"dataframe\">\n  <thead>\n    <tr style=\"text-align: right;\">\n      <th></th>\n      <th>Modelo</th>\n      <th>Precision Global</th>\n      <th>Error Global</th>\n      <th>Verdaderos Positivos</th>\n      <th>Verdaderos Negativos</th>\n      <th>Falsos Negativos</th>\n      <th>Falsos Positivos</th>\n      <th>Precision Positiva (PP)</th>\n      <th>Precision Negativa (PN)</th>\n    </tr>\n  </thead>\n  <tbody>\n    <tr>\n      <th>0</th>\n      <td>SVN SIGMOID</td>\n      <td>0.749538</td>\n      <td>0.250462</td>\n      <td>184</td>\n      <td>1034</td>\n      <td>214</td>\n      <td>193</td>\n      <td>0.842706</td>\n      <td>0.462312</td>\n    </tr>\n  </tbody>\n</table>\n</div>"
     },
     "execution_count": 149,
     "metadata": {},
     "output_type": "execute_result"
    }
   ],
   "source": [
    "prediccionSVNWineSigmoid = PrediccionSVN(datos=datosWine)\n",
    "prediccionSVNWineSigmoid.entrenamiento(kernel='sigmoid', entrenamiento=\"SVN SIGMOID\", train_size=0.75)\n",
    "prediccionSVNWineSigmoid.reporte"
   ],
   "metadata": {
    "collapsed": false,
    "pycharm": {
     "name": "#%%\n"
    }
   }
  },
  {
   "cell_type": "markdown",
   "source": [
    "Reafimando lo anterior podemos ver que el modelo linear es mucho mucho mejor que el modelo sigmoide en este caso."
   ],
   "metadata": {
    "collapsed": false,
    "pycharm": {
     "name": "#%% md\n"
    }
   }
  },
  {
   "cell_type": "code",
   "execution_count": 150,
   "outputs": [
    {
     "data": {
      "text/plain": "        Modelo  Precision Global  Error Global  Verdaderos Positivos  \\\n0   SVN Linear          0.989538      0.010462                   384   \n0  SVN SIGMOID          0.749538      0.250462                   184   \n\n   Verdaderos Negativos  Falsos Negativos  Falsos Positivos  \\\n0                  1224                14                 3   \n0                  1034               214               193   \n\n   Precision Positiva (PP)  Precision Negativa (PN)  \n0                 0.997555                 0.964824  \n0                 0.842706                 0.462312  ",
      "text/html": "<div>\n<style scoped>\n    .dataframe tbody tr th:only-of-type {\n        vertical-align: middle;\n    }\n\n    .dataframe tbody tr th {\n        vertical-align: top;\n    }\n\n    .dataframe thead th {\n        text-align: right;\n    }\n</style>\n<table border=\"1\" class=\"dataframe\">\n  <thead>\n    <tr style=\"text-align: right;\">\n      <th></th>\n      <th>Modelo</th>\n      <th>Precision Global</th>\n      <th>Error Global</th>\n      <th>Verdaderos Positivos</th>\n      <th>Verdaderos Negativos</th>\n      <th>Falsos Negativos</th>\n      <th>Falsos Positivos</th>\n      <th>Precision Positiva (PP)</th>\n      <th>Precision Negativa (PN)</th>\n    </tr>\n  </thead>\n  <tbody>\n    <tr>\n      <th>0</th>\n      <td>SVN Linear</td>\n      <td>0.989538</td>\n      <td>0.010462</td>\n      <td>384</td>\n      <td>1224</td>\n      <td>14</td>\n      <td>3</td>\n      <td>0.997555</td>\n      <td>0.964824</td>\n    </tr>\n    <tr>\n      <th>0</th>\n      <td>SVN SIGMOID</td>\n      <td>0.749538</td>\n      <td>0.250462</td>\n      <td>184</td>\n      <td>1034</td>\n      <td>214</td>\n      <td>193</td>\n      <td>0.842706</td>\n      <td>0.462312</td>\n    </tr>\n  </tbody>\n</table>\n</div>"
     },
     "execution_count": 150,
     "metadata": {},
     "output_type": "execute_result"
    }
   ],
   "source": [
    "pd.concat([prediccionSVNWineLinear.reporte, prediccionSVNWineSigmoid.reporte])\n"
   ],
   "metadata": {
    "collapsed": false,
    "pycharm": {
     "name": "#%%\n"
    }
   }
  },
  {
   "cell_type": "markdown",
   "source": [
    "Hablando sobre las TAREAS anteriores por ejemplo como podemos ver aqui comparado con el Random Forest tambien es un poquito peor mas que todo en la precision global, y en las precisiones especificas."
   ],
   "metadata": {
    "collapsed": false,
    "pycharm": {
     "name": "#%% md\n"
    }
   }
  },
  {
   "cell_type": "code",
   "execution_count": 151,
   "outputs": [
    {
     "data": {
      "text/plain": "               Modelo  Precision Global  Error Global  Verdaderos Positivos  \\\n0  Bosques Aleatorios          0.995692      0.004308                   392   \n\n   Verdaderos Negativos  Falsos Negativos  Falsos Positivos  \\\n0                  1226                 6                 1   \n\n   Precision Positiva (PP)  Precision Negativa (PN)  \n0                 0.999185                 0.984925  ",
      "text/html": "<div>\n<style scoped>\n    .dataframe tbody tr th:only-of-type {\n        vertical-align: middle;\n    }\n\n    .dataframe tbody tr th {\n        vertical-align: top;\n    }\n\n    .dataframe thead th {\n        text-align: right;\n    }\n</style>\n<table border=\"1\" class=\"dataframe\">\n  <thead>\n    <tr style=\"text-align: right;\">\n      <th></th>\n      <th>Modelo</th>\n      <th>Precision Global</th>\n      <th>Error Global</th>\n      <th>Verdaderos Positivos</th>\n      <th>Verdaderos Negativos</th>\n      <th>Falsos Negativos</th>\n      <th>Falsos Positivos</th>\n      <th>Precision Positiva (PP)</th>\n      <th>Precision Negativa (PN)</th>\n    </tr>\n  </thead>\n  <tbody>\n    <tr>\n      <th>0</th>\n      <td>Bosques Aleatorios</td>\n      <td>0.995692</td>\n      <td>0.004308</td>\n      <td>392</td>\n      <td>1226</td>\n      <td>6</td>\n      <td>1</td>\n      <td>0.999185</td>\n      <td>0.984925</td>\n    </tr>\n  </tbody>\n</table>\n</div>"
     },
     "execution_count": 151,
     "metadata": {},
     "output_type": "execute_result"
    }
   ],
   "source": [
    "prediccionRandomForest = PrediccionRandomForest(datosWine)\n",
    "prediccionRandomForest.entrenamiento(train_size=0.75)\n",
    "prediccionRandomForest.reporte\n"
   ],
   "metadata": {
    "collapsed": false,
    "pycharm": {
     "name": "#%%\n"
    }
   }
  },
  {
   "cell_type": "markdown",
   "source": [
    "En comparacion con los data frame  de arriba, en el caso donde solo usamos las variables mas importantes, en especifico con el linear, empeora un poquito la precision global, las precisiones especificas"
   ],
   "metadata": {
    "collapsed": false
   }
  },
  {
   "cell_type": "code",
   "execution_count": 155,
   "outputs": [
    {
     "name": "stdout",
     "output_type": "stream",
     "text": [
      "\n",
      "Matriz de Confusión:\n",
      "[[1211   16]\n",
      " [  23  375]]\n",
      "\n",
      "Precisión Global:\n",
      "0.976\n",
      "\n",
      "Error Global:\n",
      "0.02400000000000002\n",
      "\n",
      "Precisión por categoría:\n",
      "   Precision Positiva (PP)  Precision Negativa (PN)\n",
      "0                  0.98696                 0.942211\n"
     ]
    },
    {
     "data": {
      "text/plain": "                  Modelo  Precision Global  Error Global  \\\n0  Suport Vector Machine             0.976         0.024   \n\n   Verdaderos Positivos  Verdaderos Negativos  Falsos Negativos  \\\n0                   375                  1211                23   \n\n   Falsos Positivos  Precision Positiva (PP)  Precision Negativa (PN)  \n0                16                  0.98696                 0.942211  ",
      "text/html": "<div>\n<style scoped>\n    .dataframe tbody tr th:only-of-type {\n        vertical-align: middle;\n    }\n\n    .dataframe tbody tr th {\n        vertical-align: top;\n    }\n\n    .dataframe thead th {\n        text-align: right;\n    }\n</style>\n<table border=\"1\" class=\"dataframe\">\n  <thead>\n    <tr style=\"text-align: right;\">\n      <th></th>\n      <th>Modelo</th>\n      <th>Precision Global</th>\n      <th>Error Global</th>\n      <th>Verdaderos Positivos</th>\n      <th>Verdaderos Negativos</th>\n      <th>Falsos Negativos</th>\n      <th>Falsos Positivos</th>\n      <th>Precision Positiva (PP)</th>\n      <th>Precision Negativa (PN)</th>\n    </tr>\n  </thead>\n  <tbody>\n    <tr>\n      <th>0</th>\n      <td>Suport Vector Machine</td>\n      <td>0.976</td>\n      <td>0.024</td>\n      <td>375</td>\n      <td>1211</td>\n      <td>23</td>\n      <td>16</td>\n      <td>0.98696</td>\n      <td>0.942211</td>\n    </tr>\n  </tbody>\n</table>\n</div>"
     },
     "execution_count": 155,
     "metadata": {},
     "output_type": "execute_result"
    }
   ],
   "source": [
    "datosWine = pd.DataFrame(datosWine, columns=[\"volatil.acidez\", \"cloruros\", \"total.sulfuro.dioxido\",\n",
    "                                             \"libre.sulfuro.dioxido\", \"sulfitos\", \"densidad\", \"tipo\"])\n",
    "prediccionSVNVariablesImportantes = PrediccionSVN(datosWine)\n",
    "prediccionSVNVariablesImportantes.entrenamiento(kernel=\"linear\",train_size=0.75)\n",
    "prediccionSVNVariablesImportantes.reporte\n"
   ],
   "metadata": {
    "collapsed": false,
    "pycharm": {
     "name": "#%%\n"
    }
   }
  }
 ],
 "metadata": {
  "kernelspec": {
   "display_name": "Python 3",
   "language": "python",
   "name": "python3"
  },
  "language_info": {
   "codemirror_mode": {
    "name": "ipython",
    "version": 2
   },
   "file_extension": ".py",
   "mimetype": "text/x-python",
   "name": "python",
   "nbconvert_exporter": "python",
   "pygments_lexer": "ipython2",
   "version": "2.7.6"
  }
 },
 "nbformat": 4,
 "nbformat_minor": 0
}