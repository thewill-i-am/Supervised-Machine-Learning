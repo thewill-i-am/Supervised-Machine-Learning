{
 "cells": [
  {
   "cell_type": "code",
   "execution_count": 141,
   "metadata": {
    "collapsed": true
   },
   "outputs": [],
   "source": [
    "import pandas as pd\n",
    "import numpy as np\n",
    "import os\n",
    "from sklearn.ensemble import AdaBoostClassifier, RandomForestClassifier\n",
    "from sklearn.metrics import confusion_matrix\n",
    "from sklearn.model_selection import train_test_split\n",
    "from sklearn.neighbors import KNeighborsClassifier\n",
    "from sklearn.tree import DecisionTreeClassifier\n",
    "import matplotlib.pyplot as plt\n",
    "from sklearn.ensemble import GradientBoostingClassifier\n",
    "from sklearn.svm import SVC\n",
    "from random import randint\n",
    "import plotly.graph_objects as go\n",
    "import plotly.express as px\n",
    "\n",
    "os.chdir(\"/home/william/Desktop\")"
   ]
  },
  {
   "cell_type": "code",
   "execution_count": 142,
   "outputs": [],
   "source": [
    "datosTicTacToe = pd.read_csv(\"tic-tac-toe.csv\")"
   ],
   "metadata": {
    "collapsed": false,
    "pycharm": {
     "name": "#%%\n"
    }
   }
  },
  {
   "cell_type": "code",
   "execution_count": 143,
   "outputs": [
    {
     "data": {
      "text/plain": "cuadro-superior-izquierdo     category\n cuadro-superior-medio        category\n cuadro-superior-derecho      category\n cuadro-medio-izquierdo       category\n cuadro-medio-medio           category\n  cuadro-medio-derecho        category\n cuadro-inferior-izquierdo    category\n cuadro-inferior-medio        category\n cuadro-inferior-derecho      category\n Gana-x                         object\ndtype: object"
     },
     "execution_count": 143,
     "metadata": {},
     "output_type": "execute_result"
    }
   ],
   "source": [
    "for x in datosTicTacToe:\n",
    "    if x != \" Gana-x\":\n",
    "        datosTicTacToe[x] = datosTicTacToe[x].astype('category')\n",
    "datosTicTacToe.dtypes"
   ],
   "metadata": {
    "collapsed": false,
    "pycharm": {
     "name": "#%%\n"
    }
   }
  },
  {
   "cell_type": "code",
   "execution_count": 144,
   "outputs": [],
   "source": [
    "datosTicTacToePosiblesResultados = list(set(datosTicTacToe.iloc[:, -1]))"
   ],
   "metadata": {
    "collapsed": false,
    "pycharm": {
     "name": "#%%\n"
    }
   }
  },
  {
   "cell_type": "code",
   "execution_count": 145,
   "outputs": [],
   "source": [
    "class PrediccionBase:\n",
    "    def __init__(self, datos):\n",
    "        self.__datos = self.cleaning(datos)\n",
    "        self.__precisionGlobal = 0\n",
    "        self.__error_global = 0\n",
    "        self.__verdaderosNegativos = 0\n",
    "        self.__falsosPositivos = 0\n",
    "        self.__falsosNegativos = 0\n",
    "        self.__verdaderosPositivos = 0\n",
    "        self.__reporte = 0\n",
    "        self.__precision_category = 0\n",
    "\n",
    "    @property\n",
    "    def datos(self):\n",
    "        return self.__datos\n",
    "\n",
    "    @property\n",
    "    def reporte(self):\n",
    "        return self.__reporte\n",
    "\n",
    "    def cleaning(self, datos):\n",
    "        datos = datos.replace({'x': 0, 'o': 1, 'b': 2})\n",
    "        return datos\n",
    "\n",
    "    def entrenamiento(self):\n",
    "        pass\n",
    "\n",
    "    def generacionReporte(self, nombreDelModelo):\n",
    "        dict = {\n",
    "            \"Modelo\": [nombreDelModelo],\n",
    "            \"Precision Global\": [self.__precisionGlobal],\n",
    "            \"Error Global\": [self.__error_global],\n",
    "            \"Verdaderos Positivos\": [self.__verdaderosPositivos],\n",
    "            \"Verdaderos Negativos\": [self.__verdaderosNegativos],\n",
    "            \"Falsos Negativos\": [self.__falsosNegativos],\n",
    "            \"Falsos Positivos\": [self.__falsosPositivos]}\n",
    "        self.__reporte = pd.DataFrame(dict).join(self.__precision_category)\n",
    "\n",
    "    def analsis(self, MC, modelo):\n",
    "        self.__verdaderosNegativos, self.__falsosPositivos, self.__falsosNegativos, self.__verdaderosPositivos = MC.ravel()\n",
    "        self.__precisionGlobal = np.sum(MC.diagonal()) / np.sum(MC)\n",
    "        self.__error_global = 1 - self.__precisionGlobal\n",
    "        self.__precision_category = pd.DataFrame(MC.diagonal() / np.sum(MC, axis=1)).T\n",
    "        self.__precision_category.columns = [\"Precision Positiva (PP)\", \"Precision Negativa (PN)\"]\n",
    "        self.generacionReporte(modelo)\n",
    "        return {\"Matriz de Confusión\": MC,\n",
    "                \"Precisión Global\": self.__precisionGlobal,\n",
    "                \"Error Global\": self.__error_global,\n",
    "                \"Precisión por categoría\": self.__precision_category}\n",
    "\n",
    "class PrediccionSVN(PrediccionBase):\n",
    "    def __init__(self, datos):\n",
    "        super().__init__(datos)\n",
    "        self.__instancia = None\n",
    "        self.__instancia_potenciacion = None\n",
    "        self.__x_train = []\n",
    "\n",
    "    @property\n",
    "    def instancia(self):\n",
    "        return self.__instancia_potenciacion\n",
    "\n",
    "    @property\n",
    "    def x_test(self):\n",
    "        return self.__x_test\n",
    "\n",
    "    def obtenerVariablesImportantes(self):\n",
    "        importancia = self.__instancia_potenciacion.feature_importances_\n",
    "        print(importancia)\n",
    "        etiquetas = self.__x_train.columns.values\n",
    "        y_pos = np.arange(len(etiquetas))\n",
    "        plt.figure(figsize=(10, 8))\n",
    "        plt.barh(y_pos, importancia, align='center', alpha=0.5)\n",
    "        plt.yticks(y_pos, etiquetas)\n",
    "\n",
    "    def entrenamiento(self, kernel = \"linear\", entrenamiento=\"Suport Vector Machine\",train_size=0.8):\n",
    "        x = self.datos.iloc[:, :-1]\n",
    "        y = self.datos.iloc[:, -1]\n",
    "\n",
    "        self.__instancia_potenciacion = SVC(kernel=kernel ,random_state=0)\n",
    "\n",
    "        self.__x_train, self.__x_test, y_train, y_test = train_test_split(x, y, train_size=train_size, random_state=0)\n",
    "        self.__instancia_potenciacion.fit(self.__x_train, y_train)\n",
    "        prediccion = self.__instancia_potenciacion.predict(self.__x_test)\n",
    "        MC = confusion_matrix(y_test, prediccion)\n",
    "        indices = self.analsis(MC, entrenamiento)\n",
    "        for k in indices:\n",
    "             print(\"\\n%s:\\n%s\" % (k, str(indices[k])))\n",
    "\n",
    "\n",
    "class PrediccionKNeighbors(PrediccionBase):\n",
    "    def __init__(self, datos):\n",
    "        super().__init__(datos)\n",
    "        self.__instancia_potenciacion = None\n",
    "        self.__x_test = None\n",
    "\n",
    "    @property\n",
    "    def instancia(self):\n",
    "        return self.__instancia_potenciacion\n",
    "\n",
    "    @property\n",
    "    def x_test(self):\n",
    "        return self.__x_test\n",
    "\n",
    "    def entrenamiento(self, nucleo=\"auto\", n_neighbors=3, train_size=0.80, entrenamiento=\"KNeighbors\"):\n",
    "        x = self.datos.iloc[:, :-1]\n",
    "        y = self.datos.iloc[:, -1]\n",
    "        X_train, self.__x_test, y_train, y_test = train_test_split(x, y, train_size=train_size, random_state=0)\n",
    "        self.__instancia_potenciacion = KNeighborsClassifier(n_neighbors=n_neighbors, algorithm=nucleo)\n",
    "        self.__instancia_potenciacion.fit(X_train, y_train)\n",
    "        prediccion = self.__instancia_potenciacion.predict(self.__x_test)\n",
    "        MC = confusion_matrix(y_test, prediccion)\n",
    "        indices = self.analsis(MC, entrenamiento)\n",
    "        # for k in indices:\n",
    "        #     print(\"\\n%s:\\n%s\" % (k, str(indices[k])))\n",
    "\n",
    "\n",
    "class PrediccionADABoosting(PrediccionBase):\n",
    "    def __init__(self, datos):\n",
    "        super().__init__(datos)\n",
    "        self.__instancia = None\n",
    "        self.__instancia_potenciacion = None\n",
    "        self.__x_train = []\n",
    "\n",
    "    @property\n",
    "    def instancia(self):\n",
    "        return self.__instancia_potenciacion\n",
    "\n",
    "    @property\n",
    "    def x_test(self):\n",
    "        return self.__x_test\n",
    "\n",
    "    def obtenerVariablesImportantes(self):\n",
    "        importancia = self.__instancia_potenciacion.feature_importances_\n",
    "        print(importancia)\n",
    "        etiquetas = self.__x_train.columns.values\n",
    "        y_pos = np.arange(len(etiquetas))\n",
    "        plt.figure(figsize=(10, 8))\n",
    "        plt.barh(y_pos, importancia, align='center', alpha=0.5)\n",
    "        plt.yticks(y_pos, etiquetas)\n",
    "\n",
    "    def entrenamiento(self, train_size=0.75, criterion=\"gini\", splitter=\"best\", min_samples_split=2,\n",
    "                      entretenamiento=\"Bosques Aleatorios ADA Boosting\"):\n",
    "        x = self.datos.iloc[:, :-1]\n",
    "        y = self.datos.iloc[:, -1]\n",
    "        self.__instancia = DecisionTreeClassifier(min_samples_split=min_samples_split, max_depth=None,\n",
    "                                                  criterion=criterion, splitter=splitter)\n",
    "        self.__instancia_potenciacion = AdaBoostClassifier(base_estimator=self.__instancia,\n",
    "                                                           n_estimators=100, random_state=0)\n",
    "        self.__x_train, self.__x_test, y_train, y_test = train_test_split(x, y, train_size=train_size, random_state=0)\n",
    "        self.__instancia_potenciacion.fit(self.__x_train, y_train)\n",
    "        prediccion = self.__instancia_potenciacion.predict(self.__x_test)\n",
    "        MC = confusion_matrix(y_test, prediccion)\n",
    "        indices = self.analsis(MC, entretenamiento)\n",
    "        # for k in indices:\n",
    "        #     print(\"\\n%s:\\n%s\" % (k, str(indices[k])))\n",
    "\n",
    "\n",
    "class PrediccionXGBoosting(PrediccionBase):\n",
    "    def __init__(self, datos):\n",
    "        super().__init__(datos)\n",
    "        self.__instancia = None\n",
    "        self.__instancia_potenciacion = None\n",
    "        self.__x_train = []\n",
    "\n",
    "    @property\n",
    "    def x_test(self):\n",
    "        return self.__x_test\n",
    "    @property\n",
    "    def instancia(self):\n",
    "        return self.__instancia_potenciacion\n",
    "\n",
    "    def obtenerVariablesImportantes(self):\n",
    "        importancia = self.__instancia_potenciacion.feature_importances_\n",
    "        print(importancia)\n",
    "        etiquetas = self.__x_train.columns.values\n",
    "        y_pos = np.arange(len(etiquetas))\n",
    "        plt.figure(figsize=(10, 8))\n",
    "        plt.barh(y_pos, importancia, align='center', alpha=0.5)\n",
    "        plt.yticks(y_pos, etiquetas)\n",
    "\n",
    "    def entrenamiento(self, train_size=0.75, n_estimators=10, random_state=0, min_samples_split=2,\n",
    "                      entrenamiento=\"Bosques Aleatorios XG Boosting\"):\n",
    "        x = self.datos.iloc[:, :-1]\n",
    "        y = self.datos.iloc[:, -1]\n",
    "\n",
    "        self.__instancia_potenciacion = GradientBoostingClassifier(n_estimators=n_estimators, random_state=n_estimators,\n",
    "                                                                   min_samples_split=min_samples_split, max_depth=None)\n",
    "\n",
    "        self.__x_train, self.__x_test, y_train, y_test = train_test_split(x, y, train_size=train_size, random_state=0)\n",
    "        self.__instancia_potenciacion.fit(self.__x_train, y_train)\n",
    "        prediccion = self.__instancia_potenciacion.predict(self.__x_test)\n",
    "        MC = confusion_matrix(y_test, prediccion)\n",
    "        indices = self.analsis(MC, entrenamiento)\n",
    "        # for k in indices:\n",
    "        #     print(\"\\n%s:\\n%s\" % (k, str(indices[k])))\n",
    "\n",
    "\n",
    "class PrediccionRandomForest(PrediccionBase):\n",
    "    def __init__(self, datos):\n",
    "        super().__init__(datos)\n",
    "        self.__instancia = None\n",
    "        self.__instancia_potenciacion = None\n",
    "        self.__x_train = []\n",
    "\n",
    "    @property\n",
    "    def instancia(self):\n",
    "        return self.__instancia_potenciacion\n",
    "\n",
    "    @property\n",
    "    def x_test(self):\n",
    "        return self.__x_test\n",
    "\n",
    "    def obtenerVariablesImportantes(self):\n",
    "        importancia = self.__instancia_potenciacion.feature_importances_\n",
    "        print(importancia)\n",
    "        etiquetas = self.__x_train.columns.values\n",
    "        y_pos = np.arange(len(etiquetas))\n",
    "        plt.figure(figsize=(10, 8))\n",
    "        plt.barh(y_pos, importancia, align='center', alpha=0.5)\n",
    "        plt.yticks(y_pos, etiquetas)\n",
    "\n",
    "    def entrenamiento(self, train_size=0.75, n_estimators=10, entrenamiento=\"Bosques Aleatorios\"):\n",
    "        x = self.datos.iloc[:, :-1]\n",
    "        y = self.datos.iloc[:, -1]\n",
    "\n",
    "        self.__instancia_potenciacion = RandomForestClassifier(n_estimators=n_estimators, random_state=0)\n",
    "\n",
    "        self.__x_train, self.__x_test, y_train, y_test = train_test_split(x, y, train_size=train_size, random_state=0)\n",
    "        self.__instancia_potenciacion.fit(self.__x_train, y_train)\n",
    "        prediccion = self.__instancia_potenciacion.predict(self.__x_test)\n",
    "        MC = confusion_matrix(y_test, prediccion)\n",
    "        indices = self.analsis(MC, entrenamiento)\n",
    "        # for k in indices:\n",
    "        #     print(\"\\n%s:\\n%s\" % (k, str(indices[k])))\n",
    "\n",
    "\n",
    "class PrediccionRandomForest(PrediccionBase):\n",
    "    def __init__(self, datos):\n",
    "        super().__init__(datos)\n",
    "        self.__instancia = None\n",
    "        self.__instancia_potenciacion = None\n",
    "        self.__x_train = []\n",
    "\n",
    "    @property\n",
    "    def instancia(self):\n",
    "        return self.__instancia_potenciacion\n",
    "\n",
    "    @property\n",
    "    def x_test(self):\n",
    "        return self.__x_test\n",
    "\n",
    "    def obtenerVariablesImportantes(self):\n",
    "        importancia = self.__instancia_potenciacion.feature_importances_\n",
    "        print(importancia)\n",
    "        etiquetas = self.__x_train.columns.values\n",
    "        y_pos = np.arange(len(etiquetas))\n",
    "        plt.figure(figsize=(10, 8))\n",
    "        plt.barh(y_pos, importancia, align='center', alpha=0.5)\n",
    "        plt.yticks(y_pos, etiquetas)\n",
    "\n",
    "    def entrenamiento(self, train_size=0.75, n_estimators=10, entrenamiento=\"Bosques Aleatorios\"):\n",
    "        x = self.datos.iloc[:, :-1]\n",
    "        y = self.datos.iloc[:, -1]\n",
    "\n",
    "        self.__instancia_potenciacion = RandomForestClassifier(n_estimators=n_estimators, random_state=0)\n",
    "\n",
    "        self.__x_train, self.__x_test, y_train, y_test = train_test_split(x, y, train_size=train_size, random_state=0)\n",
    "        self.__instancia_potenciacion.fit(self.__x_train, y_train)\n",
    "        prediccion = self.__instancia_potenciacion.predict(self.__x_test)\n",
    "        MC = confusion_matrix(y_test, prediccion)\n",
    "        indices = self.analsis(MC, entrenamiento)\n",
    "        # for k in indices:\n",
    "        #     print(\"\\n%s:\\n%s\" % (k, str(indices[k])))"
   ],
   "metadata": {
    "collapsed": false,
    "pycharm": {
     "name": "#%%\n"
    }
   }
  },
  {
   "cell_type": "markdown",
   "source": [
    "Como podemos ver en el modelo predictivo de abajo, el modelo SVN RBF.\n",
    "Tenemos una precision global del 0.875 lo cual es muy bueno, ademas, tiene un error global muy bajo.\n",
    "\n",
    "La precision positiva es de un 67%, y una prediccion del 100% para la prediccion negativa."
   ],
   "metadata": {
    "collapsed": false
   }
  },
  {
   "cell_type": "code",
   "execution_count": 146,
   "outputs": [
    {
     "name": "stdout",
     "output_type": "stream",
     "text": [
      "\n",
      "Matriz de Confusión:\n",
      "[[ 50  24]\n",
      " [  0 118]]\n",
      "\n",
      "Precisión Global:\n",
      "0.875\n",
      "\n",
      "Error Global:\n",
      "0.125\n",
      "\n",
      "Precisión por categoría:\n",
      "   Precision Positiva (PP)  Precision Negativa (PN)\n",
      "0                 0.675676                      1.0\n"
     ]
    }
   ],
   "source": [
    "#posibles Kernel : ‘linear’, ‘poly’, ‘rbf’, ‘sigmoid’\n",
    "prediccionSVNTicTacRbf = PrediccionSVN(datos=datosTicTacToe)\n",
    "prediccionSVNTicTacRbf.entrenamiento(kernel='rbf', entrenamiento=\"SVN RBF\")\n"
   ],
   "metadata": {
    "collapsed": false,
    "pycharm": {
     "name": "#%%\n"
    }
   }
  },
  {
   "cell_type": "markdown",
   "source": [
    "En este otro caso podemos ver que el nucleo de sigmoide predice muy terrible, se puede ver en la precision global, y en que no esta prediciendo bien los verdaderos negativos\n",
    "\n",
    "Tiene una precision alta, y un error global alto tambie, ademas las precisiones son muy malas tambien"
   ],
   "metadata": {
    "collapsed": false
   }
  },
  {
   "cell_type": "code",
   "execution_count": 147,
   "outputs": [
    {
     "name": "stdout",
     "output_type": "stream",
     "text": [
      "\n",
      "Matriz de Confusión:\n",
      "[[ 2 72]\n",
      " [44 74]]\n",
      "\n",
      "Precisión Global:\n",
      "0.3958333333333333\n",
      "\n",
      "Error Global:\n",
      "0.6041666666666667\n",
      "\n",
      "Precisión por categoría:\n",
      "   Precision Positiva (PP)  Precision Negativa (PN)\n",
      "0                 0.027027                 0.627119\n"
     ]
    }
   ],
   "source": [
    "prediccionSVNSigmoid = PrediccionSVN(datos=datosTicTacToe)\n",
    "prediccionSVNSigmoid.entrenamiento(kernel='sigmoid',entrenamiento=\"SVN SIGMOID\")"
   ],
   "metadata": {
    "collapsed": false,
    "pycharm": {
     "name": "#%%\n"
    }
   }
  },
  {
   "cell_type": "code",
   "execution_count": 148,
   "outputs": [],
   "source": [
    "prediccionADABosting = PrediccionADABoosting(datos=datosTicTacToe)\n",
    "prediccionADABosting.entrenamiento(train_size=0.80)"
   ],
   "metadata": {
    "collapsed": false,
    "pycharm": {
     "name": "#%%\n"
    }
   }
  },
  {
   "cell_type": "code",
   "execution_count": 149,
   "outputs": [],
   "source": [
    "prediccionXGBoosting = PrediccionXGBoosting(datos=datosTicTacToe)\n",
    "prediccionXGBoosting.entrenamiento(train_size=0.80)"
   ],
   "metadata": {
    "collapsed": false,
    "pycharm": {
     "name": "#%%\n"
    }
   }
  },
  {
   "cell_type": "code",
   "execution_count": 150,
   "outputs": [],
   "source": [
    "prediccionRandomForest = PrediccionRandomForest(datos=datosTicTacToe)\n",
    "prediccionRandomForest.entrenamiento(train_size=0.80)"
   ],
   "metadata": {
    "collapsed": false,
    "pycharm": {
     "name": "#%%\n"
    }
   }
  },
  {
   "cell_type": "code",
   "execution_count": 150,
   "outputs": [],
   "source": [],
   "metadata": {
    "collapsed": false,
    "pycharm": {
     "name": "#%%\n"
    }
   }
  },
  {
   "cell_type": "markdown",
   "source": [
    "Como podemos ver en el dataset de abajo, rectifica lo que dijimos arriba, el modelo de RBF, de acuerdo a los datos predice mucho mejor que la otra."
   ],
   "metadata": {
    "collapsed": false,
    "pycharm": {
     "name": "#%% md\n"
    }
   }
  },
  {
   "cell_type": "code",
   "execution_count": 151,
   "outputs": [
    {
     "data": {
      "text/plain": "        Modelo  Precision Global  Error Global  Verdaderos Positivos  \\\n0      SVN RBF          0.875000      0.125000                   118   \n0  SVN SIGMOID          0.395833      0.604167                    74   \n\n   Verdaderos Negativos  Falsos Negativos  Falsos Positivos  \\\n0                    50                 0                24   \n0                     2                44                72   \n\n   Precision Positiva (PP)  Precision Negativa (PN)  \n0                 0.675676                 1.000000  \n0                 0.027027                 0.627119  ",
      "text/html": "<div>\n<style scoped>\n    .dataframe tbody tr th:only-of-type {\n        vertical-align: middle;\n    }\n\n    .dataframe tbody tr th {\n        vertical-align: top;\n    }\n\n    .dataframe thead th {\n        text-align: right;\n    }\n</style>\n<table border=\"1\" class=\"dataframe\">\n  <thead>\n    <tr style=\"text-align: right;\">\n      <th></th>\n      <th>Modelo</th>\n      <th>Precision Global</th>\n      <th>Error Global</th>\n      <th>Verdaderos Positivos</th>\n      <th>Verdaderos Negativos</th>\n      <th>Falsos Negativos</th>\n      <th>Falsos Positivos</th>\n      <th>Precision Positiva (PP)</th>\n      <th>Precision Negativa (PN)</th>\n    </tr>\n  </thead>\n  <tbody>\n    <tr>\n      <th>0</th>\n      <td>SVN RBF</td>\n      <td>0.875000</td>\n      <td>0.125000</td>\n      <td>118</td>\n      <td>50</td>\n      <td>0</td>\n      <td>24</td>\n      <td>0.675676</td>\n      <td>1.000000</td>\n    </tr>\n    <tr>\n      <th>0</th>\n      <td>SVN SIGMOID</td>\n      <td>0.395833</td>\n      <td>0.604167</td>\n      <td>74</td>\n      <td>2</td>\n      <td>44</td>\n      <td>72</td>\n      <td>0.027027</td>\n      <td>0.627119</td>\n    </tr>\n  </tbody>\n</table>\n</div>"
     },
     "execution_count": 151,
     "metadata": {},
     "output_type": "execute_result"
    }
   ],
   "source": [
    "pd.concat([prediccionSVNTicTacRbf.reporte, prediccionSVNSigmoid.reporte])"
   ],
   "metadata": {
    "collapsed": false,
    "pycharm": {
     "name": "#%%\n"
    }
   }
  },
  {
   "cell_type": "markdown",
   "source": [
    "Basandonos con las tareas anteriores, podemos ver que los bosques aleatorios hacen una prediccion muy exacta, pero despues de los bosques aleatorios las support vector machine RBF, tiene unos resultados muy buenos\n"
   ],
   "metadata": {
    "collapsed": false,
    "pycharm": {
     "name": "#%% md\n"
    }
   }
  },
  {
   "cell_type": "code",
   "execution_count": 152,
   "outputs": [
    {
     "data": {
      "text/plain": "                            Modelo  Precision Global  Error Global  \\\n0                          SVN RBF          0.875000      0.125000   \n0                      SVN SIGMOID          0.395833      0.604167   \n0  Bosques Aleatorios ADA Boosting          0.890625      0.109375   \n0   Bosques Aleatorios XG Boosting          0.880208      0.119792   \n0               Bosques Aleatorios          0.901042      0.098958   \n\n   Verdaderos Positivos  Verdaderos Negativos  Falsos Negativos  \\\n0                   118                    50                 0   \n0                    74                     2                44   \n0                   115                    56                 3   \n0                   116                    53                 2   \n0                   112                    61                 6   \n\n   Falsos Positivos  Precision Positiva (PP)  Precision Negativa (PN)  \n0                24                 0.675676                 1.000000  \n0                72                 0.027027                 0.627119  \n0                18                 0.756757                 0.974576  \n0                21                 0.716216                 0.983051  \n0                13                 0.824324                 0.949153  ",
      "text/html": "<div>\n<style scoped>\n    .dataframe tbody tr th:only-of-type {\n        vertical-align: middle;\n    }\n\n    .dataframe tbody tr th {\n        vertical-align: top;\n    }\n\n    .dataframe thead th {\n        text-align: right;\n    }\n</style>\n<table border=\"1\" class=\"dataframe\">\n  <thead>\n    <tr style=\"text-align: right;\">\n      <th></th>\n      <th>Modelo</th>\n      <th>Precision Global</th>\n      <th>Error Global</th>\n      <th>Verdaderos Positivos</th>\n      <th>Verdaderos Negativos</th>\n      <th>Falsos Negativos</th>\n      <th>Falsos Positivos</th>\n      <th>Precision Positiva (PP)</th>\n      <th>Precision Negativa (PN)</th>\n    </tr>\n  </thead>\n  <tbody>\n    <tr>\n      <th>0</th>\n      <td>SVN RBF</td>\n      <td>0.875000</td>\n      <td>0.125000</td>\n      <td>118</td>\n      <td>50</td>\n      <td>0</td>\n      <td>24</td>\n      <td>0.675676</td>\n      <td>1.000000</td>\n    </tr>\n    <tr>\n      <th>0</th>\n      <td>SVN SIGMOID</td>\n      <td>0.395833</td>\n      <td>0.604167</td>\n      <td>74</td>\n      <td>2</td>\n      <td>44</td>\n      <td>72</td>\n      <td>0.027027</td>\n      <td>0.627119</td>\n    </tr>\n    <tr>\n      <th>0</th>\n      <td>Bosques Aleatorios ADA Boosting</td>\n      <td>0.890625</td>\n      <td>0.109375</td>\n      <td>115</td>\n      <td>56</td>\n      <td>3</td>\n      <td>18</td>\n      <td>0.756757</td>\n      <td>0.974576</td>\n    </tr>\n    <tr>\n      <th>0</th>\n      <td>Bosques Aleatorios XG Boosting</td>\n      <td>0.880208</td>\n      <td>0.119792</td>\n      <td>116</td>\n      <td>53</td>\n      <td>2</td>\n      <td>21</td>\n      <td>0.716216</td>\n      <td>0.983051</td>\n    </tr>\n    <tr>\n      <th>0</th>\n      <td>Bosques Aleatorios</td>\n      <td>0.901042</td>\n      <td>0.098958</td>\n      <td>112</td>\n      <td>61</td>\n      <td>6</td>\n      <td>13</td>\n      <td>0.824324</td>\n      <td>0.949153</td>\n    </tr>\n  </tbody>\n</table>\n</div>"
     },
     "execution_count": 152,
     "metadata": {},
     "output_type": "execute_result"
    }
   ],
   "source": [
    "pd.concat([prediccionSVNTicTacRbf.reporte, prediccionSVNSigmoid.reporte, prediccionADABosting.reporte, prediccionXGBoosting.reporte,prediccionRandomForest.reporte])"
   ],
   "metadata": {
    "collapsed": false,
    "pycharm": {
     "name": "#%%\n"
    }
   }
  },
  {
   "cell_type": "code",
   "execution_count": 153,
   "outputs": [],
   "source": [
    "datosWine = pd.read_csv(\"wine.csv\")"
   ],
   "metadata": {
    "collapsed": false,
    "pycharm": {
     "name": "#%%\n"
    }
   }
  },
  {
   "cell_type": "markdown",
   "source": [
    "El modelo linear predice excelente tiene una precision global del 98% y un error global del 0.10%, ademas si vemos las precisiones positivas podemos ver que tiene un 99% y la negativa un 96%\n",
    "Este modelo es una maravilla para la prediccion!"
   ],
   "metadata": {
    "collapsed": false,
    "pycharm": {
     "name": "#%% md\n"
    }
   }
  },
  {
   "cell_type": "code",
   "source": [
    "prediccionSVNWineLinear = PrediccionSVN(datos=datosWine)\n",
    "prediccionSVNWineLinear.entrenamiento(kernel='linear', entrenamiento=\"SVN Linear\", train_size=0.75)\n",
    "prediccionSVNWineLinear.reporte"
   ],
   "metadata": {
    "collapsed": false,
    "pycharm": {
     "name": "#%%\n"
    }
   },
   "execution_count": 154,
   "outputs": [
    {
     "name": "stdout",
     "output_type": "stream",
     "text": [
      "\n",
      "Matriz de Confusión:\n",
      "[[1224    3]\n",
      " [  14  384]]\n",
      "\n",
      "Precisión Global:\n",
      "0.9895384615384616\n",
      "\n",
      "Error Global:\n",
      "0.010461538461538411\n",
      "\n",
      "Precisión por categoría:\n",
      "   Precision Positiva (PP)  Precision Negativa (PN)\n",
      "0                 0.997555                 0.964824\n"
     ]
    },
    {
     "data": {
      "text/plain": "       Modelo  Precision Global  Error Global  Verdaderos Positivos  \\\n0  SVN Linear          0.989538      0.010462                   384   \n\n   Verdaderos Negativos  Falsos Negativos  Falsos Positivos  \\\n0                  1224                14                 3   \n\n   Precision Positiva (PP)  Precision Negativa (PN)  \n0                 0.997555                 0.964824  ",
      "text/html": "<div>\n<style scoped>\n    .dataframe tbody tr th:only-of-type {\n        vertical-align: middle;\n    }\n\n    .dataframe tbody tr th {\n        vertical-align: top;\n    }\n\n    .dataframe thead th {\n        text-align: right;\n    }\n</style>\n<table border=\"1\" class=\"dataframe\">\n  <thead>\n    <tr style=\"text-align: right;\">\n      <th></th>\n      <th>Modelo</th>\n      <th>Precision Global</th>\n      <th>Error Global</th>\n      <th>Verdaderos Positivos</th>\n      <th>Verdaderos Negativos</th>\n      <th>Falsos Negativos</th>\n      <th>Falsos Positivos</th>\n      <th>Precision Positiva (PP)</th>\n      <th>Precision Negativa (PN)</th>\n    </tr>\n  </thead>\n  <tbody>\n    <tr>\n      <th>0</th>\n      <td>SVN Linear</td>\n      <td>0.989538</td>\n      <td>0.010462</td>\n      <td>384</td>\n      <td>1224</td>\n      <td>14</td>\n      <td>3</td>\n      <td>0.997555</td>\n      <td>0.964824</td>\n    </tr>\n  </tbody>\n</table>\n</div>"
     },
     "execution_count": 154,
     "metadata": {},
     "output_type": "execute_result"
    }
   ]
  },
  {
   "cell_type": "markdown",
   "source": [
    "Por otra parte el modelo SIGMOIDE esta fallando un poco mas que el modelo anterior, como podemos ver en la precision global, y ademas como podemos ver la matriz de correlacion esta hablando muy mal de la forma en la que predice este modelo"
   ],
   "metadata": {
    "collapsed": false
   }
  },
  {
   "cell_type": "code",
   "execution_count": 155,
   "outputs": [
    {
     "name": "stdout",
     "output_type": "stream",
     "text": [
      "\n",
      "Matriz de Confusión:\n",
      "[[1034  193]\n",
      " [ 214  184]]\n",
      "\n",
      "Precisión Global:\n",
      "0.7495384615384615\n",
      "\n",
      "Error Global:\n",
      "0.2504615384615385\n",
      "\n",
      "Precisión por categoría:\n",
      "   Precision Positiva (PP)  Precision Negativa (PN)\n",
      "0                 0.842706                 0.462312\n"
     ]
    },
    {
     "data": {
      "text/plain": "        Modelo  Precision Global  Error Global  Verdaderos Positivos  \\\n0  SVN SIGMOID          0.749538      0.250462                   184   \n\n   Verdaderos Negativos  Falsos Negativos  Falsos Positivos  \\\n0                  1034               214               193   \n\n   Precision Positiva (PP)  Precision Negativa (PN)  \n0                 0.842706                 0.462312  ",
      "text/html": "<div>\n<style scoped>\n    .dataframe tbody tr th:only-of-type {\n        vertical-align: middle;\n    }\n\n    .dataframe tbody tr th {\n        vertical-align: top;\n    }\n\n    .dataframe thead th {\n        text-align: right;\n    }\n</style>\n<table border=\"1\" class=\"dataframe\">\n  <thead>\n    <tr style=\"text-align: right;\">\n      <th></th>\n      <th>Modelo</th>\n      <th>Precision Global</th>\n      <th>Error Global</th>\n      <th>Verdaderos Positivos</th>\n      <th>Verdaderos Negativos</th>\n      <th>Falsos Negativos</th>\n      <th>Falsos Positivos</th>\n      <th>Precision Positiva (PP)</th>\n      <th>Precision Negativa (PN)</th>\n    </tr>\n  </thead>\n  <tbody>\n    <tr>\n      <th>0</th>\n      <td>SVN SIGMOID</td>\n      <td>0.749538</td>\n      <td>0.250462</td>\n      <td>184</td>\n      <td>1034</td>\n      <td>214</td>\n      <td>193</td>\n      <td>0.842706</td>\n      <td>0.462312</td>\n    </tr>\n  </tbody>\n</table>\n</div>"
     },
     "execution_count": 155,
     "metadata": {},
     "output_type": "execute_result"
    }
   ],
   "source": [
    "prediccionSVNWineSigmoid = PrediccionSVN(datos=datosWine)\n",
    "prediccionSVNWineSigmoid.entrenamiento(kernel='sigmoid', entrenamiento=\"SVN SIGMOID\", train_size=0.75)\n",
    "prediccionSVNWineSigmoid.reporte"
   ],
   "metadata": {
    "collapsed": false,
    "pycharm": {
     "name": "#%%\n"
    }
   }
  },
  {
   "cell_type": "markdown",
   "source": [
    "Reafimando lo anterior podemos ver que el modelo linear es mucho mucho mejor que el modelo sigmoide en este caso."
   ],
   "metadata": {
    "collapsed": false,
    "pycharm": {
     "name": "#%% md\n"
    }
   }
  },
  {
   "cell_type": "code",
   "execution_count": 156,
   "outputs": [
    {
     "data": {
      "text/plain": "        Modelo  Precision Global  Error Global  Verdaderos Positivos  \\\n0   SVN Linear          0.989538      0.010462                   384   \n0  SVN SIGMOID          0.749538      0.250462                   184   \n\n   Verdaderos Negativos  Falsos Negativos  Falsos Positivos  \\\n0                  1224                14                 3   \n0                  1034               214               193   \n\n   Precision Positiva (PP)  Precision Negativa (PN)  \n0                 0.997555                 0.964824  \n0                 0.842706                 0.462312  ",
      "text/html": "<div>\n<style scoped>\n    .dataframe tbody tr th:only-of-type {\n        vertical-align: middle;\n    }\n\n    .dataframe tbody tr th {\n        vertical-align: top;\n    }\n\n    .dataframe thead th {\n        text-align: right;\n    }\n</style>\n<table border=\"1\" class=\"dataframe\">\n  <thead>\n    <tr style=\"text-align: right;\">\n      <th></th>\n      <th>Modelo</th>\n      <th>Precision Global</th>\n      <th>Error Global</th>\n      <th>Verdaderos Positivos</th>\n      <th>Verdaderos Negativos</th>\n      <th>Falsos Negativos</th>\n      <th>Falsos Positivos</th>\n      <th>Precision Positiva (PP)</th>\n      <th>Precision Negativa (PN)</th>\n    </tr>\n  </thead>\n  <tbody>\n    <tr>\n      <th>0</th>\n      <td>SVN Linear</td>\n      <td>0.989538</td>\n      <td>0.010462</td>\n      <td>384</td>\n      <td>1224</td>\n      <td>14</td>\n      <td>3</td>\n      <td>0.997555</td>\n      <td>0.964824</td>\n    </tr>\n    <tr>\n      <th>0</th>\n      <td>SVN SIGMOID</td>\n      <td>0.749538</td>\n      <td>0.250462</td>\n      <td>184</td>\n      <td>1034</td>\n      <td>214</td>\n      <td>193</td>\n      <td>0.842706</td>\n      <td>0.462312</td>\n    </tr>\n  </tbody>\n</table>\n</div>"
     },
     "execution_count": 156,
     "metadata": {},
     "output_type": "execute_result"
    }
   ],
   "source": [
    "pd.concat([prediccionSVNWineLinear.reporte, prediccionSVNWineSigmoid.reporte])\n"
   ],
   "metadata": {
    "collapsed": false,
    "pycharm": {
     "name": "#%%\n"
    }
   }
  },
  {
   "cell_type": "markdown",
   "source": [
    "En comparacion a tareas anteriores el Random Forest predice excelentemente, sin embargo podemos ver que el modelo de support vector machine linear tiene una muy buena posicion al igual que los metodos de ADA Boosting y XG Boosting"
   ],
   "metadata": {
    "collapsed": false,
    "pycharm": {
     "name": "#%% md\n"
    }
   }
  },
  {
   "cell_type": "code",
   "execution_count": 157,
   "outputs": [
    {
     "data": {
      "text/plain": "                            Modelo  Precision Global  Error Global  \\\n0                       SVN Linear          0.989538      0.010462   \n0                      SVN SIGMOID          0.749538      0.250462   \n0               Bosques Aleatorios          0.995692      0.004308   \n0  Bosques Aleatorios ADA Boosting          0.985231      0.014769   \n0   Bosques Aleatorios XG Boosting          0.986462      0.013538   \n\n   Verdaderos Positivos  Verdaderos Negativos  Falsos Negativos  \\\n0                   384                  1224                14   \n0                   184                  1034               214   \n0                   392                  1226                 6   \n0                   384                  1217                14   \n0                   384                  1219                14   \n\n   Falsos Positivos  Precision Positiva (PP)  Precision Negativa (PN)  \n0                 3                 0.997555                 0.964824  \n0               193                 0.842706                 0.462312  \n0                 1                 0.999185                 0.984925  \n0                10                 0.991850                 0.964824  \n0                 8                 0.993480                 0.964824  ",
      "text/html": "<div>\n<style scoped>\n    .dataframe tbody tr th:only-of-type {\n        vertical-align: middle;\n    }\n\n    .dataframe tbody tr th {\n        vertical-align: top;\n    }\n\n    .dataframe thead th {\n        text-align: right;\n    }\n</style>\n<table border=\"1\" class=\"dataframe\">\n  <thead>\n    <tr style=\"text-align: right;\">\n      <th></th>\n      <th>Modelo</th>\n      <th>Precision Global</th>\n      <th>Error Global</th>\n      <th>Verdaderos Positivos</th>\n      <th>Verdaderos Negativos</th>\n      <th>Falsos Negativos</th>\n      <th>Falsos Positivos</th>\n      <th>Precision Positiva (PP)</th>\n      <th>Precision Negativa (PN)</th>\n    </tr>\n  </thead>\n  <tbody>\n    <tr>\n      <th>0</th>\n      <td>SVN Linear</td>\n      <td>0.989538</td>\n      <td>0.010462</td>\n      <td>384</td>\n      <td>1224</td>\n      <td>14</td>\n      <td>3</td>\n      <td>0.997555</td>\n      <td>0.964824</td>\n    </tr>\n    <tr>\n      <th>0</th>\n      <td>SVN SIGMOID</td>\n      <td>0.749538</td>\n      <td>0.250462</td>\n      <td>184</td>\n      <td>1034</td>\n      <td>214</td>\n      <td>193</td>\n      <td>0.842706</td>\n      <td>0.462312</td>\n    </tr>\n    <tr>\n      <th>0</th>\n      <td>Bosques Aleatorios</td>\n      <td>0.995692</td>\n      <td>0.004308</td>\n      <td>392</td>\n      <td>1226</td>\n      <td>6</td>\n      <td>1</td>\n      <td>0.999185</td>\n      <td>0.984925</td>\n    </tr>\n    <tr>\n      <th>0</th>\n      <td>Bosques Aleatorios ADA Boosting</td>\n      <td>0.985231</td>\n      <td>0.014769</td>\n      <td>384</td>\n      <td>1217</td>\n      <td>14</td>\n      <td>10</td>\n      <td>0.991850</td>\n      <td>0.964824</td>\n    </tr>\n    <tr>\n      <th>0</th>\n      <td>Bosques Aleatorios XG Boosting</td>\n      <td>0.986462</td>\n      <td>0.013538</td>\n      <td>384</td>\n      <td>1219</td>\n      <td>14</td>\n      <td>8</td>\n      <td>0.993480</td>\n      <td>0.964824</td>\n    </tr>\n  </tbody>\n</table>\n</div>"
     },
     "execution_count": 157,
     "metadata": {},
     "output_type": "execute_result"
    }
   ],
   "source": [
    "prediccionRandomForest = PrediccionRandomForest(datosWine)\n",
    "prediccionRandomForest.entrenamiento(train_size=0.75)\n",
    "prediccionRandomForest.reporte\n",
    "\n",
    "prediccionADABosting = PrediccionADABoosting(datos=datosWine)\n",
    "prediccionADABosting.entrenamiento(train_size=0.75)\n",
    "\n",
    "prediccionXGBoosting = PrediccionXGBoosting(datos=datosWine)\n",
    "prediccionXGBoosting.entrenamiento(train_size=0.75)\n",
    "\n",
    "prediccionRandomForest = PrediccionRandomForest(datos=datosWine)\n",
    "prediccionRandomForest.entrenamiento(train_size=0.75)\n",
    "\n",
    "pd.concat([prediccionSVNWineLinear.reporte, prediccionSVNWineSigmoid.reporte, prediccionRandomForest.reporte, prediccionADABosting.reporte, prediccionXGBoosting.reporte])"
   ],
   "metadata": {
    "collapsed": false,
    "pycharm": {
     "name": "#%%\n"
    }
   }
  },
  {
   "cell_type": "markdown",
   "source": [
    "En comparacion con los data frame  de arriba, en el caso donde solo usamos las variables mas importantes, en especifico con el linear, empeora un poquito la precision global, las precisiones especificas"
   ],
   "metadata": {
    "collapsed": false
   }
  },
  {
   "cell_type": "code",
   "execution_count": 158,
   "outputs": [
    {
     "name": "stdout",
     "output_type": "stream",
     "text": [
      "\n",
      "Matriz de Confusión:\n",
      "[[1211   16]\n",
      " [  23  375]]\n",
      "\n",
      "Precisión Global:\n",
      "0.976\n",
      "\n",
      "Error Global:\n",
      "0.02400000000000002\n",
      "\n",
      "Precisión por categoría:\n",
      "   Precision Positiva (PP)  Precision Negativa (PN)\n",
      "0                  0.98696                 0.942211\n"
     ]
    },
    {
     "data": {
      "text/plain": "                  Modelo  Precision Global  Error Global  \\\n0  Suport Vector Machine             0.976         0.024   \n\n   Verdaderos Positivos  Verdaderos Negativos  Falsos Negativos  \\\n0                   375                  1211                23   \n\n   Falsos Positivos  Precision Positiva (PP)  Precision Negativa (PN)  \n0                16                  0.98696                 0.942211  ",
      "text/html": "<div>\n<style scoped>\n    .dataframe tbody tr th:only-of-type {\n        vertical-align: middle;\n    }\n\n    .dataframe tbody tr th {\n        vertical-align: top;\n    }\n\n    .dataframe thead th {\n        text-align: right;\n    }\n</style>\n<table border=\"1\" class=\"dataframe\">\n  <thead>\n    <tr style=\"text-align: right;\">\n      <th></th>\n      <th>Modelo</th>\n      <th>Precision Global</th>\n      <th>Error Global</th>\n      <th>Verdaderos Positivos</th>\n      <th>Verdaderos Negativos</th>\n      <th>Falsos Negativos</th>\n      <th>Falsos Positivos</th>\n      <th>Precision Positiva (PP)</th>\n      <th>Precision Negativa (PN)</th>\n    </tr>\n  </thead>\n  <tbody>\n    <tr>\n      <th>0</th>\n      <td>Suport Vector Machine</td>\n      <td>0.976</td>\n      <td>0.024</td>\n      <td>375</td>\n      <td>1211</td>\n      <td>23</td>\n      <td>16</td>\n      <td>0.98696</td>\n      <td>0.942211</td>\n    </tr>\n  </tbody>\n</table>\n</div>"
     },
     "execution_count": 158,
     "metadata": {},
     "output_type": "execute_result"
    }
   ],
   "source": [
    "datosWine = pd.DataFrame(datosWine, columns=[\"volatil.acidez\", \"cloruros\", \"total.sulfuro.dioxido\",\n",
    "                                             \"libre.sulfuro.dioxido\", \"sulfitos\", \"densidad\", \"tipo\"])\n",
    "prediccionSVNVariablesImportantes = PrediccionSVN(datosWine)\n",
    "prediccionSVNVariablesImportantes.entrenamiento(kernel=\"linear\",train_size=0.75)\n",
    "prediccionSVNVariablesImportantes.reporte"
   ],
   "metadata": {
    "collapsed": false,
    "pycharm": {
     "name": "#%%\n"
    }
   }
  },
  {
   "cell_type": "code",
   "execution_count": 159,
   "outputs": [
    {
     "data": {
      "application/vnd.plotly.v1+json": {
       "config": {
        "plotlyServerURL": "https://plot.ly"
       },
       "data": [
        {
         "hovertemplate": "Clase=Rojo<br>x=%{x}<br>y=%{y}<br>z=%{z}<extra></extra>",
         "legendgroup": "Rojo",
         "marker": {
          "color": "red",
          "symbol": "circle"
         },
         "mode": "markers",
         "name": "Rojo",
         "scene": "scene",
         "showlegend": true,
         "type": "scatter3d",
         "x": [
          1,
          1,
          1,
          3,
          1
         ],
         "y": [
          0,
          0,
          1,
          1,
          1
         ],
         "z": [
          1,
          2,
          2,
          4,
          3
         ]
        },
        {
         "hovertemplate": "Clase=Azul<br>x=%{x}<br>y=%{y}<br>z=%{z}<extra></extra>",
         "legendgroup": "Azul",
         "marker": {
          "color": "blue",
          "symbol": "circle"
         },
         "mode": "markers",
         "name": "Azul",
         "scene": "scene",
         "showlegend": true,
         "type": "scatter3d",
         "x": [
          3,
          1,
          3,
          1
         ],
         "y": [
          2,
          2,
          2,
          1
         ],
         "z": [
          3,
          1,
          1,
          0
         ]
        },
        {
         "showscale": false,
         "text": "Hiperplano Rojo",
         "type": "surface",
         "x": [
          [
           0,
           1,
           2,
           3,
           4
          ],
          [
           0,
           1,
           2,
           3,
           4
          ],
          [
           0,
           1,
           2,
           3,
           4
          ],
          [
           0,
           1,
           2,
           3,
           4
          ],
          [
           0,
           1,
           2,
           3,
           4
          ]
         ],
         "y": [
          [
           0,
           0,
           0,
           0,
           0
          ],
          [
           1,
           1,
           1,
           1,
           1
          ],
          [
           2,
           2,
           2,
           2,
           2
          ],
          [
           3,
           3,
           3,
           3,
           3
          ],
          [
           4,
           4,
           4,
           4,
           4
          ]
         ],
         "z": [
          [
           0,
           1,
           2,
           3,
           4
          ],
          [
           1,
           2,
           3,
           4,
           5
          ],
          [
           2,
           3,
           4,
           5,
           6
          ],
          [
           3,
           4,
           5,
           6,
           7
          ],
          [
           4,
           5,
           6,
           7,
           8
          ]
         ]
        },
        {
         "showscale": false,
         "text": "Hiperplano Azul",
         "type": "surface",
         "x": [
          [
           0,
           1,
           2,
           3,
           4
          ],
          [
           0,
           1,
           2,
           3,
           4
          ],
          [
           0,
           1,
           2,
           3,
           4
          ],
          [
           0,
           1,
           2,
           3,
           4
          ],
          [
           0,
           1,
           2,
           3,
           4
          ]
         ],
         "y": [
          [
           0,
           0,
           0,
           0,
           0
          ],
          [
           1,
           1,
           1,
           1,
           1
          ],
          [
           2,
           2,
           2,
           2,
           2
          ],
          [
           3,
           3,
           3,
           3,
           3
          ],
          [
           4,
           4,
           4,
           4,
           4
          ]
         ],
         "z": [
          [
           -2,
           -1,
           0,
           1,
           2
          ],
          [
           -1,
           0,
           1,
           2,
           3
          ],
          [
           0,
           1,
           2,
           3,
           4
          ],
          [
           1,
           2,
           3,
           4,
           5
          ],
          [
           2,
           3,
           4,
           5,
           6
          ]
         ]
        },
        {
         "showscale": false,
         "text": "Hiperplano Optimo",
         "type": "surface",
         "x": [
          [
           0,
           1,
           2,
           3,
           4
          ],
          [
           0,
           1,
           2,
           3,
           4
          ],
          [
           0,
           1,
           2,
           3,
           4
          ],
          [
           0,
           1,
           2,
           3,
           4
          ],
          [
           0,
           1,
           2,
           3,
           4
          ]
         ],
         "y": [
          [
           0,
           0,
           0,
           0,
           0
          ],
          [
           1,
           1,
           1,
           1,
           1
          ],
          [
           2,
           2,
           2,
           2,
           2
          ],
          [
           3,
           3,
           3,
           3,
           3
          ],
          [
           4,
           4,
           4,
           4,
           4
          ]
         ],
         "z": [
          [
           -1,
           0,
           1,
           2,
           3
          ],
          [
           0,
           1,
           2,
           3,
           4
          ],
          [
           1,
           2,
           3,
           4,
           5
          ],
          [
           2,
           3,
           4,
           5,
           6
          ],
          [
           3,
           4,
           5,
           6,
           7
          ]
         ]
        }
       ],
       "layout": {
        "legend": {
         "title": {
          "text": "Clase"
         },
         "tracegroupgap": 0
        },
        "margin": {
         "t": 60
        },
        "scene": {
         "domain": {
          "x": [
           0.0,
           1.0
          ],
          "y": [
           0.0,
           1.0
          ]
         },
         "xaxis": {
          "title": {
           "text": "x"
          }
         },
         "yaxis": {
          "title": {
           "text": "y"
          }
         },
         "zaxis": {
          "title": {
           "text": "z"
          }
         }
        },
        "template": {
         "data": {
          "bar": [
           {
            "error_x": {
             "color": "#2a3f5f"
            },
            "error_y": {
             "color": "#2a3f5f"
            },
            "marker": {
             "line": {
              "color": "#E5ECF6",
              "width": 0.5
             },
             "pattern": {
              "fillmode": "overlay",
              "size": 10,
              "solidity": 0.2
             }
            },
            "type": "bar"
           }
          ],
          "barpolar": [
           {
            "marker": {
             "line": {
              "color": "#E5ECF6",
              "width": 0.5
             },
             "pattern": {
              "fillmode": "overlay",
              "size": 10,
              "solidity": 0.2
             }
            },
            "type": "barpolar"
           }
          ],
          "carpet": [
           {
            "aaxis": {
             "endlinecolor": "#2a3f5f",
             "gridcolor": "white",
             "linecolor": "white",
             "minorgridcolor": "white",
             "startlinecolor": "#2a3f5f"
            },
            "baxis": {
             "endlinecolor": "#2a3f5f",
             "gridcolor": "white",
             "linecolor": "white",
             "minorgridcolor": "white",
             "startlinecolor": "#2a3f5f"
            },
            "type": "carpet"
           }
          ],
          "choropleth": [
           {
            "colorbar": {
             "outlinewidth": 0,
             "ticks": ""
            },
            "type": "choropleth"
           }
          ],
          "contour": [
           {
            "colorbar": {
             "outlinewidth": 0,
             "ticks": ""
            },
            "colorscale": [
             [
              0.0,
              "#0d0887"
             ],
             [
              0.1111111111111111,
              "#46039f"
             ],
             [
              0.2222222222222222,
              "#7201a8"
             ],
             [
              0.3333333333333333,
              "#9c179e"
             ],
             [
              0.4444444444444444,
              "#bd3786"
             ],
             [
              0.5555555555555556,
              "#d8576b"
             ],
             [
              0.6666666666666666,
              "#ed7953"
             ],
             [
              0.7777777777777778,
              "#fb9f3a"
             ],
             [
              0.8888888888888888,
              "#fdca26"
             ],
             [
              1.0,
              "#f0f921"
             ]
            ],
            "type": "contour"
           }
          ],
          "contourcarpet": [
           {
            "colorbar": {
             "outlinewidth": 0,
             "ticks": ""
            },
            "type": "contourcarpet"
           }
          ],
          "heatmap": [
           {
            "colorbar": {
             "outlinewidth": 0,
             "ticks": ""
            },
            "colorscale": [
             [
              0.0,
              "#0d0887"
             ],
             [
              0.1111111111111111,
              "#46039f"
             ],
             [
              0.2222222222222222,
              "#7201a8"
             ],
             [
              0.3333333333333333,
              "#9c179e"
             ],
             [
              0.4444444444444444,
              "#bd3786"
             ],
             [
              0.5555555555555556,
              "#d8576b"
             ],
             [
              0.6666666666666666,
              "#ed7953"
             ],
             [
              0.7777777777777778,
              "#fb9f3a"
             ],
             [
              0.8888888888888888,
              "#fdca26"
             ],
             [
              1.0,
              "#f0f921"
             ]
            ],
            "type": "heatmap"
           }
          ],
          "heatmapgl": [
           {
            "colorbar": {
             "outlinewidth": 0,
             "ticks": ""
            },
            "colorscale": [
             [
              0.0,
              "#0d0887"
             ],
             [
              0.1111111111111111,
              "#46039f"
             ],
             [
              0.2222222222222222,
              "#7201a8"
             ],
             [
              0.3333333333333333,
              "#9c179e"
             ],
             [
              0.4444444444444444,
              "#bd3786"
             ],
             [
              0.5555555555555556,
              "#d8576b"
             ],
             [
              0.6666666666666666,
              "#ed7953"
             ],
             [
              0.7777777777777778,
              "#fb9f3a"
             ],
             [
              0.8888888888888888,
              "#fdca26"
             ],
             [
              1.0,
              "#f0f921"
             ]
            ],
            "type": "heatmapgl"
           }
          ],
          "histogram": [
           {
            "marker": {
             "pattern": {
              "fillmode": "overlay",
              "size": 10,
              "solidity": 0.2
             }
            },
            "type": "histogram"
           }
          ],
          "histogram2d": [
           {
            "colorbar": {
             "outlinewidth": 0,
             "ticks": ""
            },
            "colorscale": [
             [
              0.0,
              "#0d0887"
             ],
             [
              0.1111111111111111,
              "#46039f"
             ],
             [
              0.2222222222222222,
              "#7201a8"
             ],
             [
              0.3333333333333333,
              "#9c179e"
             ],
             [
              0.4444444444444444,
              "#bd3786"
             ],
             [
              0.5555555555555556,
              "#d8576b"
             ],
             [
              0.6666666666666666,
              "#ed7953"
             ],
             [
              0.7777777777777778,
              "#fb9f3a"
             ],
             [
              0.8888888888888888,
              "#fdca26"
             ],
             [
              1.0,
              "#f0f921"
             ]
            ],
            "type": "histogram2d"
           }
          ],
          "histogram2dcontour": [
           {
            "colorbar": {
             "outlinewidth": 0,
             "ticks": ""
            },
            "colorscale": [
             [
              0.0,
              "#0d0887"
             ],
             [
              0.1111111111111111,
              "#46039f"
             ],
             [
              0.2222222222222222,
              "#7201a8"
             ],
             [
              0.3333333333333333,
              "#9c179e"
             ],
             [
              0.4444444444444444,
              "#bd3786"
             ],
             [
              0.5555555555555556,
              "#d8576b"
             ],
             [
              0.6666666666666666,
              "#ed7953"
             ],
             [
              0.7777777777777778,
              "#fb9f3a"
             ],
             [
              0.8888888888888888,
              "#fdca26"
             ],
             [
              1.0,
              "#f0f921"
             ]
            ],
            "type": "histogram2dcontour"
           }
          ],
          "mesh3d": [
           {
            "colorbar": {
             "outlinewidth": 0,
             "ticks": ""
            },
            "type": "mesh3d"
           }
          ],
          "parcoords": [
           {
            "line": {
             "colorbar": {
              "outlinewidth": 0,
              "ticks": ""
             }
            },
            "type": "parcoords"
           }
          ],
          "pie": [
           {
            "automargin": true,
            "type": "pie"
           }
          ],
          "scatter": [
           {
            "marker": {
             "colorbar": {
              "outlinewidth": 0,
              "ticks": ""
             }
            },
            "type": "scatter"
           }
          ],
          "scatter3d": [
           {
            "line": {
             "colorbar": {
              "outlinewidth": 0,
              "ticks": ""
             }
            },
            "marker": {
             "colorbar": {
              "outlinewidth": 0,
              "ticks": ""
             }
            },
            "type": "scatter3d"
           }
          ],
          "scattercarpet": [
           {
            "marker": {
             "colorbar": {
              "outlinewidth": 0,
              "ticks": ""
             }
            },
            "type": "scattercarpet"
           }
          ],
          "scattergeo": [
           {
            "marker": {
             "colorbar": {
              "outlinewidth": 0,
              "ticks": ""
             }
            },
            "type": "scattergeo"
           }
          ],
          "scattergl": [
           {
            "marker": {
             "colorbar": {
              "outlinewidth": 0,
              "ticks": ""
             }
            },
            "type": "scattergl"
           }
          ],
          "scattermapbox": [
           {
            "marker": {
             "colorbar": {
              "outlinewidth": 0,
              "ticks": ""
             }
            },
            "type": "scattermapbox"
           }
          ],
          "scatterpolar": [
           {
            "marker": {
             "colorbar": {
              "outlinewidth": 0,
              "ticks": ""
             }
            },
            "type": "scatterpolar"
           }
          ],
          "scatterpolargl": [
           {
            "marker": {
             "colorbar": {
              "outlinewidth": 0,
              "ticks": ""
             }
            },
            "type": "scatterpolargl"
           }
          ],
          "scatterternary": [
           {
            "marker": {
             "colorbar": {
              "outlinewidth": 0,
              "ticks": ""
             }
            },
            "type": "scatterternary"
           }
          ],
          "surface": [
           {
            "colorbar": {
             "outlinewidth": 0,
             "ticks": ""
            },
            "colorscale": [
             [
              0.0,
              "#0d0887"
             ],
             [
              0.1111111111111111,
              "#46039f"
             ],
             [
              0.2222222222222222,
              "#7201a8"
             ],
             [
              0.3333333333333333,
              "#9c179e"
             ],
             [
              0.4444444444444444,
              "#bd3786"
             ],
             [
              0.5555555555555556,
              "#d8576b"
             ],
             [
              0.6666666666666666,
              "#ed7953"
             ],
             [
              0.7777777777777778,
              "#fb9f3a"
             ],
             [
              0.8888888888888888,
              "#fdca26"
             ],
             [
              1.0,
              "#f0f921"
             ]
            ],
            "type": "surface"
           }
          ],
          "table": [
           {
            "cells": {
             "fill": {
              "color": "#EBF0F8"
             },
             "line": {
              "color": "white"
             }
            },
            "header": {
             "fill": {
              "color": "#C8D4E3"
             },
             "line": {
              "color": "white"
             }
            },
            "type": "table"
           }
          ]
         },
         "layout": {
          "annotationdefaults": {
           "arrowcolor": "#2a3f5f",
           "arrowhead": 0,
           "arrowwidth": 1
          },
          "autotypenumbers": "strict",
          "coloraxis": {
           "colorbar": {
            "outlinewidth": 0,
            "ticks": ""
           }
          },
          "colorscale": {
           "diverging": [
            [
             0,
             "#8e0152"
            ],
            [
             0.1,
             "#c51b7d"
            ],
            [
             0.2,
             "#de77ae"
            ],
            [
             0.3,
             "#f1b6da"
            ],
            [
             0.4,
             "#fde0ef"
            ],
            [
             0.5,
             "#f7f7f7"
            ],
            [
             0.6,
             "#e6f5d0"
            ],
            [
             0.7,
             "#b8e186"
            ],
            [
             0.8,
             "#7fbc41"
            ],
            [
             0.9,
             "#4d9221"
            ],
            [
             1,
             "#276419"
            ]
           ],
           "sequential": [
            [
             0.0,
             "#0d0887"
            ],
            [
             0.1111111111111111,
             "#46039f"
            ],
            [
             0.2222222222222222,
             "#7201a8"
            ],
            [
             0.3333333333333333,
             "#9c179e"
            ],
            [
             0.4444444444444444,
             "#bd3786"
            ],
            [
             0.5555555555555556,
             "#d8576b"
            ],
            [
             0.6666666666666666,
             "#ed7953"
            ],
            [
             0.7777777777777778,
             "#fb9f3a"
            ],
            [
             0.8888888888888888,
             "#fdca26"
            ],
            [
             1.0,
             "#f0f921"
            ]
           ],
           "sequentialminus": [
            [
             0.0,
             "#0d0887"
            ],
            [
             0.1111111111111111,
             "#46039f"
            ],
            [
             0.2222222222222222,
             "#7201a8"
            ],
            [
             0.3333333333333333,
             "#9c179e"
            ],
            [
             0.4444444444444444,
             "#bd3786"
            ],
            [
             0.5555555555555556,
             "#d8576b"
            ],
            [
             0.6666666666666666,
             "#ed7953"
            ],
            [
             0.7777777777777778,
             "#fb9f3a"
            ],
            [
             0.8888888888888888,
             "#fdca26"
            ],
            [
             1.0,
             "#f0f921"
            ]
           ]
          },
          "colorway": [
           "#636efa",
           "#EF553B",
           "#00cc96",
           "#ab63fa",
           "#FFA15A",
           "#19d3f3",
           "#FF6692",
           "#B6E880",
           "#FF97FF",
           "#FECB52"
          ],
          "font": {
           "color": "#2a3f5f"
          },
          "geo": {
           "bgcolor": "white",
           "lakecolor": "white",
           "landcolor": "#E5ECF6",
           "showlakes": true,
           "showland": true,
           "subunitcolor": "white"
          },
          "hoverlabel": {
           "align": "left"
          },
          "hovermode": "closest",
          "mapbox": {
           "style": "light"
          },
          "paper_bgcolor": "white",
          "plot_bgcolor": "#E5ECF6",
          "polar": {
           "angularaxis": {
            "gridcolor": "white",
            "linecolor": "white",
            "ticks": ""
           },
           "bgcolor": "#E5ECF6",
           "radialaxis": {
            "gridcolor": "white",
            "linecolor": "white",
            "ticks": ""
           }
          },
          "scene": {
           "xaxis": {
            "backgroundcolor": "#E5ECF6",
            "gridcolor": "white",
            "gridwidth": 2,
            "linecolor": "white",
            "showbackground": true,
            "ticks": "",
            "zerolinecolor": "white"
           },
           "yaxis": {
            "backgroundcolor": "#E5ECF6",
            "gridcolor": "white",
            "gridwidth": 2,
            "linecolor": "white",
            "showbackground": true,
            "ticks": "",
            "zerolinecolor": "white"
           },
           "zaxis": {
            "backgroundcolor": "#E5ECF6",
            "gridcolor": "white",
            "gridwidth": 2,
            "linecolor": "white",
            "showbackground": true,
            "ticks": "",
            "zerolinecolor": "white"
           }
          },
          "shapedefaults": {
           "line": {
            "color": "#2a3f5f"
           }
          },
          "ternary": {
           "aaxis": {
            "gridcolor": "white",
            "linecolor": "white",
            "ticks": ""
           },
           "baxis": {
            "gridcolor": "white",
            "linecolor": "white",
            "ticks": ""
           },
           "bgcolor": "#E5ECF6",
           "caxis": {
            "gridcolor": "white",
            "linecolor": "white",
            "ticks": ""
           }
          },
          "title": {
           "x": 0.05
          },
          "xaxis": {
           "automargin": true,
           "gridcolor": "white",
           "linecolor": "white",
           "ticks": "",
           "title": {
            "standoff": 15
           },
           "zerolinecolor": "white",
           "zerolinewidth": 2
          },
          "yaxis": {
           "automargin": true,
           "gridcolor": "white",
           "linecolor": "white",
           "ticks": "",
           "title": {
            "standoff": 15
           },
           "zerolinecolor": "white",
           "zerolinewidth": 2
          }
         }
        }
       }
      },
      "text/html": "<div>                            <div id=\"6403d98d-c8a1-41d6-aeab-304db8726712\" class=\"plotly-graph-div\" style=\"height:525px; width:100%;\"></div>            <script type=\"text/javascript\">                require([\"plotly\"], function(Plotly) {                    window.PLOTLYENV=window.PLOTLYENV || {};                                    if (document.getElementById(\"6403d98d-c8a1-41d6-aeab-304db8726712\")) {                    Plotly.newPlot(                        \"6403d98d-c8a1-41d6-aeab-304db8726712\",                        [{\"hovertemplate\":\"Clase=Rojo<br>x=%{x}<br>y=%{y}<br>z=%{z}<extra></extra>\",\"legendgroup\":\"Rojo\",\"marker\":{\"color\":\"red\",\"symbol\":\"circle\"},\"mode\":\"markers\",\"name\":\"Rojo\",\"scene\":\"scene\",\"showlegend\":true,\"type\":\"scatter3d\",\"x\":[1,1,1,3,1],\"y\":[0,0,1,1,1],\"z\":[1,2,2,4,3]},{\"hovertemplate\":\"Clase=Azul<br>x=%{x}<br>y=%{y}<br>z=%{z}<extra></extra>\",\"legendgroup\":\"Azul\",\"marker\":{\"color\":\"blue\",\"symbol\":\"circle\"},\"mode\":\"markers\",\"name\":\"Azul\",\"scene\":\"scene\",\"showlegend\":true,\"type\":\"scatter3d\",\"x\":[3,1,3,1],\"y\":[2,2,2,1],\"z\":[3,1,1,0]},{\"showscale\":false,\"text\":\"Hiperplano Rojo\",\"type\":\"surface\",\"x\":[[0,1,2,3,4],[0,1,2,3,4],[0,1,2,3,4],[0,1,2,3,4],[0,1,2,3,4]],\"y\":[[0,0,0,0,0],[1,1,1,1,1],[2,2,2,2,2],[3,3,3,3,3],[4,4,4,4,4]],\"z\":[[0,1,2,3,4],[1,2,3,4,5],[2,3,4,5,6],[3,4,5,6,7],[4,5,6,7,8]]},{\"showscale\":false,\"text\":\"Hiperplano Azul\",\"type\":\"surface\",\"x\":[[0,1,2,3,4],[0,1,2,3,4],[0,1,2,3,4],[0,1,2,3,4],[0,1,2,3,4]],\"y\":[[0,0,0,0,0],[1,1,1,1,1],[2,2,2,2,2],[3,3,3,3,3],[4,4,4,4,4]],\"z\":[[-2,-1,0,1,2],[-1,0,1,2,3],[0,1,2,3,4],[1,2,3,4,5],[2,3,4,5,6]]},{\"showscale\":false,\"text\":\"Hiperplano Optimo\",\"type\":\"surface\",\"x\":[[0,1,2,3,4],[0,1,2,3,4],[0,1,2,3,4],[0,1,2,3,4],[0,1,2,3,4]],\"y\":[[0,0,0,0,0],[1,1,1,1,1],[2,2,2,2,2],[3,3,3,3,3],[4,4,4,4,4]],\"z\":[[-1,0,1,2,3],[0,1,2,3,4],[1,2,3,4,5],[2,3,4,5,6],[3,4,5,6,7]]}],                        {\"legend\":{\"title\":{\"text\":\"Clase\"},\"tracegroupgap\":0},\"margin\":{\"t\":60},\"scene\":{\"domain\":{\"x\":[0.0,1.0],\"y\":[0.0,1.0]},\"xaxis\":{\"title\":{\"text\":\"x\"}},\"yaxis\":{\"title\":{\"text\":\"y\"}},\"zaxis\":{\"title\":{\"text\":\"z\"}}},\"template\":{\"data\":{\"bar\":[{\"error_x\":{\"color\":\"#2a3f5f\"},\"error_y\":{\"color\":\"#2a3f5f\"},\"marker\":{\"line\":{\"color\":\"#E5ECF6\",\"width\":0.5},\"pattern\":{\"fillmode\":\"overlay\",\"size\":10,\"solidity\":0.2}},\"type\":\"bar\"}],\"barpolar\":[{\"marker\":{\"line\":{\"color\":\"#E5ECF6\",\"width\":0.5},\"pattern\":{\"fillmode\":\"overlay\",\"size\":10,\"solidity\":0.2}},\"type\":\"barpolar\"}],\"carpet\":[{\"aaxis\":{\"endlinecolor\":\"#2a3f5f\",\"gridcolor\":\"white\",\"linecolor\":\"white\",\"minorgridcolor\":\"white\",\"startlinecolor\":\"#2a3f5f\"},\"baxis\":{\"endlinecolor\":\"#2a3f5f\",\"gridcolor\":\"white\",\"linecolor\":\"white\",\"minorgridcolor\":\"white\",\"startlinecolor\":\"#2a3f5f\"},\"type\":\"carpet\"}],\"choropleth\":[{\"colorbar\":{\"outlinewidth\":0,\"ticks\":\"\"},\"type\":\"choropleth\"}],\"contour\":[{\"colorbar\":{\"outlinewidth\":0,\"ticks\":\"\"},\"colorscale\":[[0.0,\"#0d0887\"],[0.1111111111111111,\"#46039f\"],[0.2222222222222222,\"#7201a8\"],[0.3333333333333333,\"#9c179e\"],[0.4444444444444444,\"#bd3786\"],[0.5555555555555556,\"#d8576b\"],[0.6666666666666666,\"#ed7953\"],[0.7777777777777778,\"#fb9f3a\"],[0.8888888888888888,\"#fdca26\"],[1.0,\"#f0f921\"]],\"type\":\"contour\"}],\"contourcarpet\":[{\"colorbar\":{\"outlinewidth\":0,\"ticks\":\"\"},\"type\":\"contourcarpet\"}],\"heatmap\":[{\"colorbar\":{\"outlinewidth\":0,\"ticks\":\"\"},\"colorscale\":[[0.0,\"#0d0887\"],[0.1111111111111111,\"#46039f\"],[0.2222222222222222,\"#7201a8\"],[0.3333333333333333,\"#9c179e\"],[0.4444444444444444,\"#bd3786\"],[0.5555555555555556,\"#d8576b\"],[0.6666666666666666,\"#ed7953\"],[0.7777777777777778,\"#fb9f3a\"],[0.8888888888888888,\"#fdca26\"],[1.0,\"#f0f921\"]],\"type\":\"heatmap\"}],\"heatmapgl\":[{\"colorbar\":{\"outlinewidth\":0,\"ticks\":\"\"},\"colorscale\":[[0.0,\"#0d0887\"],[0.1111111111111111,\"#46039f\"],[0.2222222222222222,\"#7201a8\"],[0.3333333333333333,\"#9c179e\"],[0.4444444444444444,\"#bd3786\"],[0.5555555555555556,\"#d8576b\"],[0.6666666666666666,\"#ed7953\"],[0.7777777777777778,\"#fb9f3a\"],[0.8888888888888888,\"#fdca26\"],[1.0,\"#f0f921\"]],\"type\":\"heatmapgl\"}],\"histogram\":[{\"marker\":{\"pattern\":{\"fillmode\":\"overlay\",\"size\":10,\"solidity\":0.2}},\"type\":\"histogram\"}],\"histogram2d\":[{\"colorbar\":{\"outlinewidth\":0,\"ticks\":\"\"},\"colorscale\":[[0.0,\"#0d0887\"],[0.1111111111111111,\"#46039f\"],[0.2222222222222222,\"#7201a8\"],[0.3333333333333333,\"#9c179e\"],[0.4444444444444444,\"#bd3786\"],[0.5555555555555556,\"#d8576b\"],[0.6666666666666666,\"#ed7953\"],[0.7777777777777778,\"#fb9f3a\"],[0.8888888888888888,\"#fdca26\"],[1.0,\"#f0f921\"]],\"type\":\"histogram2d\"}],\"histogram2dcontour\":[{\"colorbar\":{\"outlinewidth\":0,\"ticks\":\"\"},\"colorscale\":[[0.0,\"#0d0887\"],[0.1111111111111111,\"#46039f\"],[0.2222222222222222,\"#7201a8\"],[0.3333333333333333,\"#9c179e\"],[0.4444444444444444,\"#bd3786\"],[0.5555555555555556,\"#d8576b\"],[0.6666666666666666,\"#ed7953\"],[0.7777777777777778,\"#fb9f3a\"],[0.8888888888888888,\"#fdca26\"],[1.0,\"#f0f921\"]],\"type\":\"histogram2dcontour\"}],\"mesh3d\":[{\"colorbar\":{\"outlinewidth\":0,\"ticks\":\"\"},\"type\":\"mesh3d\"}],\"parcoords\":[{\"line\":{\"colorbar\":{\"outlinewidth\":0,\"ticks\":\"\"}},\"type\":\"parcoords\"}],\"pie\":[{\"automargin\":true,\"type\":\"pie\"}],\"scatter\":[{\"marker\":{\"colorbar\":{\"outlinewidth\":0,\"ticks\":\"\"}},\"type\":\"scatter\"}],\"scatter3d\":[{\"line\":{\"colorbar\":{\"outlinewidth\":0,\"ticks\":\"\"}},\"marker\":{\"colorbar\":{\"outlinewidth\":0,\"ticks\":\"\"}},\"type\":\"scatter3d\"}],\"scattercarpet\":[{\"marker\":{\"colorbar\":{\"outlinewidth\":0,\"ticks\":\"\"}},\"type\":\"scattercarpet\"}],\"scattergeo\":[{\"marker\":{\"colorbar\":{\"outlinewidth\":0,\"ticks\":\"\"}},\"type\":\"scattergeo\"}],\"scattergl\":[{\"marker\":{\"colorbar\":{\"outlinewidth\":0,\"ticks\":\"\"}},\"type\":\"scattergl\"}],\"scattermapbox\":[{\"marker\":{\"colorbar\":{\"outlinewidth\":0,\"ticks\":\"\"}},\"type\":\"scattermapbox\"}],\"scatterpolar\":[{\"marker\":{\"colorbar\":{\"outlinewidth\":0,\"ticks\":\"\"}},\"type\":\"scatterpolar\"}],\"scatterpolargl\":[{\"marker\":{\"colorbar\":{\"outlinewidth\":0,\"ticks\":\"\"}},\"type\":\"scatterpolargl\"}],\"scatterternary\":[{\"marker\":{\"colorbar\":{\"outlinewidth\":0,\"ticks\":\"\"}},\"type\":\"scatterternary\"}],\"surface\":[{\"colorbar\":{\"outlinewidth\":0,\"ticks\":\"\"},\"colorscale\":[[0.0,\"#0d0887\"],[0.1111111111111111,\"#46039f\"],[0.2222222222222222,\"#7201a8\"],[0.3333333333333333,\"#9c179e\"],[0.4444444444444444,\"#bd3786\"],[0.5555555555555556,\"#d8576b\"],[0.6666666666666666,\"#ed7953\"],[0.7777777777777778,\"#fb9f3a\"],[0.8888888888888888,\"#fdca26\"],[1.0,\"#f0f921\"]],\"type\":\"surface\"}],\"table\":[{\"cells\":{\"fill\":{\"color\":\"#EBF0F8\"},\"line\":{\"color\":\"white\"}},\"header\":{\"fill\":{\"color\":\"#C8D4E3\"},\"line\":{\"color\":\"white\"}},\"type\":\"table\"}]},\"layout\":{\"annotationdefaults\":{\"arrowcolor\":\"#2a3f5f\",\"arrowhead\":0,\"arrowwidth\":1},\"autotypenumbers\":\"strict\",\"coloraxis\":{\"colorbar\":{\"outlinewidth\":0,\"ticks\":\"\"}},\"colorscale\":{\"diverging\":[[0,\"#8e0152\"],[0.1,\"#c51b7d\"],[0.2,\"#de77ae\"],[0.3,\"#f1b6da\"],[0.4,\"#fde0ef\"],[0.5,\"#f7f7f7\"],[0.6,\"#e6f5d0\"],[0.7,\"#b8e186\"],[0.8,\"#7fbc41\"],[0.9,\"#4d9221\"],[1,\"#276419\"]],\"sequential\":[[0.0,\"#0d0887\"],[0.1111111111111111,\"#46039f\"],[0.2222222222222222,\"#7201a8\"],[0.3333333333333333,\"#9c179e\"],[0.4444444444444444,\"#bd3786\"],[0.5555555555555556,\"#d8576b\"],[0.6666666666666666,\"#ed7953\"],[0.7777777777777778,\"#fb9f3a\"],[0.8888888888888888,\"#fdca26\"],[1.0,\"#f0f921\"]],\"sequentialminus\":[[0.0,\"#0d0887\"],[0.1111111111111111,\"#46039f\"],[0.2222222222222222,\"#7201a8\"],[0.3333333333333333,\"#9c179e\"],[0.4444444444444444,\"#bd3786\"],[0.5555555555555556,\"#d8576b\"],[0.6666666666666666,\"#ed7953\"],[0.7777777777777778,\"#fb9f3a\"],[0.8888888888888888,\"#fdca26\"],[1.0,\"#f0f921\"]]},\"colorway\":[\"#636efa\",\"#EF553B\",\"#00cc96\",\"#ab63fa\",\"#FFA15A\",\"#19d3f3\",\"#FF6692\",\"#B6E880\",\"#FF97FF\",\"#FECB52\"],\"font\":{\"color\":\"#2a3f5f\"},\"geo\":{\"bgcolor\":\"white\",\"lakecolor\":\"white\",\"landcolor\":\"#E5ECF6\",\"showlakes\":true,\"showland\":true,\"subunitcolor\":\"white\"},\"hoverlabel\":{\"align\":\"left\"},\"hovermode\":\"closest\",\"mapbox\":{\"style\":\"light\"},\"paper_bgcolor\":\"white\",\"plot_bgcolor\":\"#E5ECF6\",\"polar\":{\"angularaxis\":{\"gridcolor\":\"white\",\"linecolor\":\"white\",\"ticks\":\"\"},\"bgcolor\":\"#E5ECF6\",\"radialaxis\":{\"gridcolor\":\"white\",\"linecolor\":\"white\",\"ticks\":\"\"}},\"scene\":{\"xaxis\":{\"backgroundcolor\":\"#E5ECF6\",\"gridcolor\":\"white\",\"gridwidth\":2,\"linecolor\":\"white\",\"showbackground\":true,\"ticks\":\"\",\"zerolinecolor\":\"white\"},\"yaxis\":{\"backgroundcolor\":\"#E5ECF6\",\"gridcolor\":\"white\",\"gridwidth\":2,\"linecolor\":\"white\",\"showbackground\":true,\"ticks\":\"\",\"zerolinecolor\":\"white\"},\"zaxis\":{\"backgroundcolor\":\"#E5ECF6\",\"gridcolor\":\"white\",\"gridwidth\":2,\"linecolor\":\"white\",\"showbackground\":true,\"ticks\":\"\",\"zerolinecolor\":\"white\"}},\"shapedefaults\":{\"line\":{\"color\":\"#2a3f5f\"}},\"ternary\":{\"aaxis\":{\"gridcolor\":\"white\",\"linecolor\":\"white\",\"ticks\":\"\"},\"baxis\":{\"gridcolor\":\"white\",\"linecolor\":\"white\",\"ticks\":\"\"},\"bgcolor\":\"#E5ECF6\",\"caxis\":{\"gridcolor\":\"white\",\"linecolor\":\"white\",\"ticks\":\"\"}},\"title\":{\"x\":0.05},\"xaxis\":{\"automargin\":true,\"gridcolor\":\"white\",\"linecolor\":\"white\",\"ticks\":\"\",\"title\":{\"standoff\":15},\"zerolinecolor\":\"white\",\"zerolinewidth\":2},\"yaxis\":{\"automargin\":true,\"gridcolor\":\"white\",\"linecolor\":\"white\",\"ticks\":\"\",\"title\":{\"standoff\":15},\"zerolinecolor\":\"white\",\"zerolinewidth\":2}}}},                        {\"responsive\": true}                    ).then(function(){\n                            \nvar gd = document.getElementById('6403d98d-c8a1-41d6-aeab-304db8726712');\nvar x = new MutationObserver(function (mutations, observer) {{\n        var display = window.getComputedStyle(gd).display;\n        if (!display || display === 'none') {{\n            console.log([gd, 'removed!']);\n            Plotly.purge(gd);\n            observer.disconnect();\n        }}\n}});\n\n// Listen for the removal of the full notebook cells\nvar notebookContainer = gd.closest('#notebook-container');\nif (notebookContainer) {{\n    x.observe(notebookContainer, {childList: true});\n}}\n\n// Listen for the clearing of the current output cell\nvar outputEl = gd.closest('.output');\nif (outputEl) {{\n    x.observe(outputEl, {childList: true});\n}}\n\n                        })                };                });            </script>        </div>"
     },
     "metadata": {},
     "output_type": "display_data"
    }
   ],
   "source": [
    "X = [1,1,1,3,1,3,1,3,1]\n",
    "Y = [0,0,1,1,1,2,2,2,1]\n",
    "Z = [1,2,2,4,3,3,1,1,0]\n",
    "Clase = [\"Rojo\",\"Rojo\",\"Rojo\",\"Rojo\",\"Rojo\",\"Azul\",\"Azul\",\"Azul\",\"Azul\"]\n",
    "dict = {\"x\": X, \"y\": Y, \"z\": Z, \"Clase\": Clase}\n",
    "df = pd.DataFrame(dict)\n",
    "fig = px.scatter_3d(df, x='x', y='y', z='z',\n",
    "              color='Clase', color_discrete_sequence=[\"red\", \"blue\"])\n",
    "\n",
    "x, y = np.meshgrid(range(5), range(5))\n",
    "hiperplano_rojo = x + y\n",
    "hiperplano_azul = x + y - 2\n",
    "hiperplano_optimo = x + y - 1\n",
    "\n",
    "fig.add_trace(\n",
    "    go.Surface(x=x, y=y, z=hiperplano_rojo, text='Hiperplano Rojo', showscale=False)\n",
    ")\n",
    "\n",
    "fig.add_trace(\n",
    "    go.Surface(x=x, y=y, z=hiperplano_azul, text='Hiperplano Azul', showscale=False)\n",
    ")\n",
    "\n",
    "fig.add_trace(\n",
    "    go.Surface(x=x, y=y, z=hiperplano_optimo, text='Hiperplano Optimo', showscale=False)\n",
    ")\n",
    "\n",
    "\n",
    "fig.show()"
   ],
   "metadata": {
    "collapsed": false,
    "pycharm": {
     "name": "#%%\n"
    }
   }
  },
  {
   "cell_type": "markdown",
   "source": [
    "La distancia de cada margen es de 2 unidades"
   ],
   "metadata": {
    "collapsed": false,
    "pycharm": {
     "name": "#%% md\n"
    }
   }
  },
  {
   "cell_type": "markdown",
   "source": [],
   "metadata": {
    "collapsed": false,
    "pycharm": {
     "name": "#%% md\n"
    }
   }
  }
 ],
 "metadata": {
  "kernelspec": {
   "display_name": "Python 3",
   "language": "python",
   "name": "python3"
  },
  "language_info": {
   "codemirror_mode": {
    "name": "ipython",
    "version": 2
   },
   "file_extension": ".py",
   "mimetype": "text/x-python",
   "name": "python",
   "nbconvert_exporter": "python",
   "pygments_lexer": "ipython2",
   "version": "2.7.6"
  }
 },
 "nbformat": 4,
 "nbformat_minor": 0
}